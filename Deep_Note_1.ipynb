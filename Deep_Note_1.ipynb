{
 "cells": [
  {
   "cell_type": "markdown",
   "metadata": {},
   "source": [
    "## Lec 1. Intro\n",
    "\n",
    "- DNN101 (Deep Neural Network)\n",
    "- Artificial Intelligence `人工智能`\n",
    "    - 专家系统\n",
    "    - Machine Learning `机器学习` (scikit-learning)\n",
    "        - 线性回归, 逻辑回归\n",
    "        - 朴素贝叶斯\n",
    "        - 决策树\n",
    "        - 集成模型: 随机森林, XGBoosting, LightGBM, .......\n",
    "        - 多层感知机 MLP (神经网络)\n",
    "            - Deep Learning `深度学习`\n",
    "---\n",
    "- 机器学习模型分类\n",
    "    - 有监督学习\n",
    "        - Regression 回归模型\n",
    "        - Classification 分类模型\n",
    "        - Generative 生成式模型\n",
    "    - 无监督学习\n",
    "        - Clustering 聚类模型\n",
    "        - Reinforcement Learning 强化学习\n",
    "- 常见算法领域\n",
    "    - Computer Vision 计算机视觉\n",
    "    - Nature Language Processing 自然语言处理\n",
    "    - Recommendation System 推荐系统\n",
    "    - Reinforcement Learning 强化学习\n",
    "    - .......\n",
    "- 深度学习常用框架\n",
    "    - tensorflow\n",
    "    - **pytorch**\n",
    "    - mxnet\n",
    "    - paddle\n",
    "---\n",
    "### 1.1 课程计划\n",
    "- Linear Neural Network\n",
    "- CNN\n",
    "- (Diffusion)\n",
    "- RNN\n",
    "- Transformer"
   ]
  },
  {
   "cell_type": "markdown",
   "metadata": {},
   "source": [
    "### 1.2 Linear Regression 线性回归 & Linear Neural Network 线性神经网络\n",
    "\n",
    "`f(x) = x*weight + bias`"
   ]
  },
  {
   "cell_type": "code",
   "execution_count": 8,
   "metadata": {},
   "outputs": [],
   "source": [
    "import torch\n",
    "import numpy as np"
   ]
  },
  {
   "cell_type": "code",
   "execution_count": 57,
   "metadata": {},
   "outputs": [],
   "source": [
    "def linear_regression(x: float) -> float:\n",
    "    \"\"\" 线性回归函数 \"\"\"\n",
    "    weight = 5\n",
    "    bias = 2\n",
    "    return x * weight + bias"
   ]
  },
  {
   "cell_type": "code",
   "execution_count": 58,
   "metadata": {},
   "outputs": [
    {
     "data": {
      "text/plain": [
       "17"
      ]
     },
     "execution_count": 58,
     "metadata": {},
     "output_type": "execute_result"
    }
   ],
   "source": [
    "linear_regression(3)"
   ]
  },
  {
   "cell_type": "code",
   "execution_count": 5,
   "metadata": {},
   "outputs": [
    {
     "data": {
      "text/plain": [
       "tensor([1, 2, 3])"
      ]
     },
     "execution_count": 5,
     "metadata": {},
     "output_type": "execute_result"
    }
   ],
   "source": [
    "[1, 2, 3]  # 列表\n",
    "np.array([1, 2, 3])  # 向量\n",
    "torch.tensor([1, 2, 3])  # 张量"
   ]
  },
  {
   "cell_type": "code",
   "execution_count": 29,
   "metadata": {},
   "outputs": [
    {
     "data": {
      "text/plain": [
       "tensor([[0.3195, 0.4655, 0.4962, 0.3247, 0.3099],\n",
       "        [0.6993, 0.7386, 1.1853, 0.5273, 0.8210]])"
      ]
     },
     "execution_count": 29,
     "metadata": {},
     "output_type": "execute_result"
    }
   ],
   "source": [
    "torch.matmul(torch.rand(2, 3), torch.rand(3, 5))"
   ]
  },
  {
   "cell_type": "code",
   "execution_count": 30,
   "metadata": {},
   "outputs": [
    {
     "data": {
      "text/plain": [
       "tensor([[1.0202, 1.0986, 0.7459, 0.5469, 0.7036],\n",
       "        [1.6224, 1.1954, 0.9998, 0.9455, 1.0561]])"
      ]
     },
     "execution_count": 30,
     "metadata": {},
     "output_type": "execute_result"
    }
   ],
   "source": [
    "torch.rand(2, 3) @ torch.rand(3, 5) "
   ]
  },
  {
   "cell_type": "code",
   "execution_count": 35,
   "metadata": {},
   "outputs": [
    {
     "data": {
      "text/plain": [
       "tensor([[0.1589, 0.9310, 0.1029],\n",
       "        [0.6460, 0.7887, 0.4697]])"
      ]
     },
     "execution_count": 35,
     "metadata": {},
     "output_type": "execute_result"
    }
   ],
   "source": [
    "x = torch.rand(2, 3)\n",
    "x"
   ]
  },
  {
   "cell_type": "code",
   "execution_count": 36,
   "metadata": {},
   "outputs": [
    {
     "data": {
      "text/plain": [
       "Parameter containing:\n",
       "tensor([[0.1589, 0.9310, 0.1029],\n",
       "        [0.6460, 0.7887, 0.4697]], requires_grad=True)"
      ]
     },
     "execution_count": 36,
     "metadata": {},
     "output_type": "execute_result"
    }
   ],
   "source": [
    "torch.nn.Parameter(x)"
   ]
  },
  {
   "cell_type": "code",
   "execution_count": 59,
   "metadata": {},
   "outputs": [],
   "source": [
    "def linear_neural_network(x: torch.tensor) -> torch.tensor:\n",
    "    \"\"\" 线性神经网络运算函数 \"\"\"\n",
    "    weight = torch.nn.Parameter(torch.rand(3, 5))\n",
    "    bias = torch.nn.Parameter(torch.rand(5))\n",
    "    return x @ weight + bias"
   ]
  },
  {
   "cell_type": "code",
   "execution_count": 56,
   "metadata": {},
   "outputs": [
    {
     "data": {
      "text/plain": [
       "tensor([[1.9303, 1.5927, 0.9763, 1.0773, 0.9797],\n",
       "        [1.9847, 1.5480, 1.0307, 0.8322, 1.1257]], grad_fn=<AddBackward0>)"
      ]
     },
     "execution_count": 56,
     "metadata": {},
     "output_type": "execute_result"
    }
   ],
   "source": [
    "linear_regression(torch.rand(2, 3))"
   ]
  },
  {
   "cell_type": "code",
   "execution_count": 48,
   "metadata": {},
   "outputs": [],
   "source": [
    "class Linear(torch.nn.Module):\n",
    "    \"\"\" 线性神经网络 \"\"\"\n",
    "    def __init__(self, in_features, out_features):\n",
    "        super().__init__()\n",
    "        self.weight = torch.nn.Parameter(torch.rand(in_features, out_features))\n",
    "        self.bias = torch.nn.Parameter(torch.rand(out_features))\n",
    "        \n",
    "    def forward(self, x):\n",
    "        return x @ self.weight + self.bias"
   ]
  },
  {
   "cell_type": "code",
   "execution_count": 49,
   "metadata": {},
   "outputs": [],
   "source": [
    "x = torch.rand(3, 3)"
   ]
  },
  {
   "cell_type": "code",
   "execution_count": 52,
   "metadata": {},
   "outputs": [
    {
     "data": {
      "text/plain": [
       "tensor([[1.0307, 1.5766, 0.7109, 0.7663, 1.9070],\n",
       "        [0.4469, 1.0405, 0.4955, 0.5855, 0.9781],\n",
       "        [0.7757, 1.4251, 0.9131, 0.8317, 1.3327]], grad_fn=<AddBackward0>)"
      ]
     },
     "execution_count": 52,
     "metadata": {},
     "output_type": "execute_result"
    }
   ],
   "source": [
    "model = Linear(3, 5)\n",
    "output = model(x)\n",
    "output"
   ]
  },
  {
   "cell_type": "code",
   "execution_count": 61,
   "metadata": {},
   "outputs": [
    {
     "data": {
      "text/plain": [
       "(Parameter containing:\n",
       " tensor([[0.5728, 0.5618, 0.3912, 0.2811, 0.8062],\n",
       "         [0.5341, 0.5218, 0.1300, 0.0771, 0.8981],\n",
       "         [0.2475, 0.5313, 0.7222, 0.2411, 0.0604]], requires_grad=True),\n",
       " Parameter containing:\n",
       " tensor([0.0061, 0.4697, 0.0437, 0.4031, 0.4242], requires_grad=True))"
      ]
     },
     "execution_count": 61,
     "metadata": {},
     "output_type": "execute_result"
    }
   ],
   "source": [
    "model.weight, model.bias"
   ]
  },
  {
   "cell_type": "markdown",
   "metadata": {},
   "source": [
    "### 1.3 逻辑回归模型"
   ]
  },
  {
   "cell_type": "code",
   "execution_count": 63,
   "metadata": {},
   "outputs": [],
   "source": [
    "import torch.nn.functional as F\n",
    "\n",
    "class LogisticRegression(torch.nn.Module):\n",
    "    \"\"\" 逻辑回归模型 \"\"\"\n",
    "    def __init__(self):\n",
    "        super().__init__()\n",
    "        self.fc = torch.nn.Linear(1, 1)\n",
    "        \n",
    "    def forward(self, x):\n",
    "        \"\"\" 前向传播 \"\"\"\n",
    "        return F.sigmoid(self.fc(x))"
   ]
  },
  {
   "cell_type": "code",
   "execution_count": 65,
   "metadata": {},
   "outputs": [],
   "source": [
    "# 生成数据集 dataset\n",
    "x = torch.Tensor([[1.0], [2.0], [3.0]])\n",
    "y = torch.Tensor([[0], [0], [1]])"
   ]
  },
  {
   "cell_type": "code",
   "execution_count": 81,
   "metadata": {},
   "outputs": [],
   "source": [
    "model = LogisticRegression()\n",
    "loss_func = torch.nn.BCELoss()\n",
    "optimizer = torch.optim.Adam(model.parameters(), lr=1e-2)"
   ]
  },
  {
   "cell_type": "code",
   "execution_count": 82,
   "metadata": {},
   "outputs": [],
   "source": [
    "total_loss = []\n",
    "for i in range(5000):\n",
    "    # forward\n",
    "    y_hat = model(x)\n",
    "    loss = loss_func(y_hat, y)\n",
    "    \n",
    "    # backward\n",
    "    optimizer.zero_grad()\n",
    "    loss.backward()\n",
    "    \n",
    "    # update\n",
    "    optimizer.step()\n",
    "    total_loss.append(loss.item())"
   ]
  },
  {
   "cell_type": "code",
   "execution_count": 83,
   "metadata": {},
   "outputs": [
    {
     "data": {
      "image/png": "[encoded data removed]",
      "text/plain": [
       "<Figure size 576x288 with 1 Axes>"
      ]
     },
     "metadata": {
      "needs_background": "light"
     },
     "output_type": "display_data"
    }
   ],
   "source": [
    "import matplotlib.pyplot as plt\n",
    "\n",
    "plt.figure(figsize=(8, 4))\n",
    "plt.plot(total_loss, label=\"train loss\")\n",
    "plt.title(\"Logistic Regression Train Loss\")\n",
    "plt.legend()\n",
    "plt.grid()\n",
    "plt.show()"
   ]
  },
  {
   "cell_type": "code",
   "execution_count": 91,
   "metadata": {},
   "outputs": [
    {
     "data": {
      "image/png": "[encoded data removed]",
      "text/plain": [
       "<Figure size 432x288 with 1 Axes>"
      ]
     },
     "metadata": {
      "needs_background": "light"
     },
     "output_type": "display_data"
    }
   ],
   "source": [
    "x_t = torch.Tensor(np.linspace(0, 10, 200)).view(200, 1)\n",
    "y_hat = model(x_t)\n",
    "\n",
    "plt.plot(x_t.data.numpy(), y_hat.data.numpy())\n",
    "plt.plot([0, 10], [0.5, 0.5], c='r')\n",
    "plt.grid()"
   ]
  }
 ],
 "metadata": {
  "kernelspec": {
   "display_name": "Python [conda env:base] *",
   "language": "python",
   "name": "conda-base-py"
  },
  "language_info": {
   "codemirror_mode": {
    "name": "ipython",
    "version": 3
   },
   "file_extension": ".py",
   "mimetype": "text/x-python",
   "name": "python",
   "nbconvert_exporter": "python",
   "pygments_lexer": "ipython3",
   "version": "3.12.7"
  }
 },
 "nbformat": 4,
 "nbformat_minor": 4
}
