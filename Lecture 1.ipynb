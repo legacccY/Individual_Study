{
 "cells": [
  {
   "cell_type": "markdown",
   "metadata": {},
   "source": [
    "## 语言\n",
    "- 自然语言：拥有复杂的语法规则，词汇和语义结构 -> 表达丰富的含义和情感\n",
    "- 人工语言：为了特定的目的而创造的语言，比如编程语言：Python\n",
    "- 二进制语言（机器语言）：由0和1组成的语言\n",
    "\n",
    "> 比较高级的编程语言，可以认为是抽象语言\n",
    "\n",
    "- 抽象语言是相对于机器语言和底层硬件来说\n",
    "\n",
    "**高级抽象语言**\n",
    "- Python/Java...\n",
    "\n",
    "**低级抽象语言**\n",
    "- 嵌入式系统开发（ARM）、操作系统开发、设备驱动程序开发、性能优化等\n",
    "- C/C++/汇编语言/系统编程的专用语言（Rust）"
   ]
  },
  {
   "cell_type": "markdown",
   "metadata": {},
   "source": [
    "## Python基础课\n",
    "> OOP，也叫面向对象编程\n",
    "\n",
    "1. 数据结构与算法（OOP-Object Oriented Programming +Data Structures + Algorithms)\n",
    "2. 计算机组成原理(omputer Organization and Architecture)/ 微机原理\n",
    "3. 操作系统（Operating System)\n",
    "4. 计算机网络（Computer Network)"
   ]
  },
  {
   "cell_type": "markdown",
   "metadata": {},
   "source": [
    "### About Computer\n",
    "\n",
    "- 数字信号：离散的信号 -> 一系列的0和1组成\n",
    "- 模拟信号：连续的信号\n",
    "\n",
    "**基本组成**\n",
    "1.处理器（Central Processing Unit 中央处理器）\n",
    "    - 显卡（GPU 图形处理器）\n",
    "    - 声卡\n",
    "    - 集成显卡\n",
    "\n",
    "2. 存储器\n",
    "    - 内存（Memory）：计算机中用于临时存储数据和程序的存储设备，它直接和CPU相连，用于存储当前运行的程序和数据。\n",
    "        - 内存通常是随机存取存储器（RAM）\n",
    "        - 特点：读写速度快，但容量有限，且断电后数据会丢失\n",
    "    - 硬盘（Disk）：用于长期存储数据和程序的外部存储设备，通过磁盘和读写磁头来存储和检索数据。\n",
    "        - 固态硬盘（SSD）\n",
    "        - 机械硬盘（HDD）\n",
    "        - 特点：读写速度较慢，容量大，价格低廉\n",
    "        \n",
    "*为什么区分存储单元？*\n",
    "- 应对不同需求\n",
    "\n",
    "输入输出\n",
    "- 输入/输出设备用于与计算机进行交互和数据纯属"
   ]
  },
  {
   "cell_type": "markdown",
   "metadata": {},
   "source": [
    "### About Programming\n",
    "\n",
    "**编程语言**\n",
    "- 软件开发\n",
    "    - web后端：Java/Golang/Python\n",
    "    - web前端：Javascript/Typescript\n",
    "    - 移动端开发: Java/Kotlin/Swift/Flytter\n",
    "    \n",
    "- 游戏开发\n",
    "    - Unity - C#\n",
    "    - Unreal - C++\n",
    "    - Godot - C#/GDScrip\n",
    "    \n",
    "**Python**\n",
    "> 解释型、面向对象的高级编程语言。脚本语言，Script文件\n",
    "\n",
    "- 数据分析（pandas、numpy）\n",
    "- 机器学习\n",
    "- web开发\n",
    "- 网络爬虫\n",
    "- 自动化脚本\n",
    "- 游戏开发\n",
    "\n",
    "Python库\n",
    "- numpy 数值运算\n",
    "- scipy 科学计算\n",
    "- pandas 数据处理 数据帧-> DataFrame\n",
    "- sklearn 机器学习"
   ]
  },
  {
   "cell_type": "code",
   "execution_count": null,
   "metadata": {},
   "outputs": [],
   "source": []
  }
 ],
 "metadata": {
  "kernelspec": {
   "display_name": "Python 3",
   "language": "python",
   "name": "python3"
  },
  "language_info": {
   "codemirror_mode": {
    "name": "ipython",
    "version": 3
   },
   "file_extension": ".py",
   "mimetype": "text/x-python",
   "name": "python",
   "nbconvert_exporter": "python",
   "pygments_lexer": "ipython3",
   "version": "3.7.3"
  }
 },
 "nbformat": 4,
 "nbformat_minor": 2
}
