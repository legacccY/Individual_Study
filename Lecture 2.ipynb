{
 "cells": [
  {
   "cell_type": "code",
   "execution_count": 3,
   "metadata": {},
   "outputs": [
    {
     "data": {
      "text/plain": [
       "140712958661568"
      ]
     },
     "execution_count": 3,
     "metadata": {},
     "output_type": "execute_result"
    }
   ],
   "source": [
    "id(a)"
   ]
  },
  {
   "cell_type": "code",
   "execution_count": 4,
   "metadata": {},
   "outputs": [
    {
     "data": {
      "text/plain": [
       "int"
      ]
     },
     "execution_count": 4,
     "metadata": {},
     "output_type": "execute_result"
    }
   ],
   "source": [
    "type(a)"
   ]
  },
  {
   "cell_type": "code",
   "execution_count": 5,
   "metadata": {},
   "outputs": [
    {
     "data": {
      "text/plain": [
       "float"
      ]
     },
     "execution_count": 5,
     "metadata": {},
     "output_type": "execute_result"
    }
   ],
   "source": [
    "b = 5.0\n",
    "type(b)"
   ]
  },
  {
   "cell_type": "markdown",
   "metadata": {},
   "source": [
    "## Object\n",
    "\n",
    "**存储**\n",
    "- Bit 位，每一个数字是一位，存储信息的最小单位\n",
    "- Byte 字节，一个字节由8个Bit组成，用于表达256种不同的信息\n",
    "- KB 千字节，1024个Byte，2的10次方\n",
    "- MB 兆字节，1024KB\n",
    "- GB 吉字节，1024MB = 1GB\n",
    "\n",
    "使用2的幂次方来表示：\n",
    "- 方便除法：计算机系统中，数据以块的形式存储，大小通常为2的幂次方\n",
    "- 高效算法：比如哈希表和内存管理算法\n",
    "- 硬件设计：例如CPU的寄存器和缓存大小"
   ]
  },
  {
   "cell_type": "markdown",
   "metadata": {},
   "source": [
    "### 基本对象类型\n",
    "\n",
    "Python\n",
    "- 整数（int）\n",
    "- 浮点数（float）\n",
    "- 复数（complex）\n",
    "- 布尔值（bool）\n",
    "- 字符串（str）\n",
    "- 列表（list）\n",
    "- 元组（tuple）\n",
    "- 字典（dict）\n",
    "- 集合（set）\n",
    "\n",
    "python和Java的区别\n",
    "- python是弱类型语言\n",
    "- python中的列表和元组是动态大小的，可以随时添加、删除、或修改元素\n",
    "- python中的字符串是不可更改的\n",
    "- python的字典是哈希映射"
   ]
  },
  {
   "cell_type": "markdown",
   "metadata": {},
   "source": [
    "#### 数字\n",
    "\n",
    "**整型**\n",
    "> 整数形态的数字，叫整型，专门的称呼是int，全称是integer\n",
    "\n",
    "**浮点型**\n",
    "> 小数，有一个小数点在浮动，专门的称呼是float\n",
    "\n",
    "**布尔型**\n",
    "> 0或1的类型，是或否，只有两种可能，专门的称呼是bool，全程是Boolean\n",
    "\n",
    "为什么计算机语言中区分不同的数字类型？\n",
    "- 不同数字的精度不同\n",
    "    - 效率：内存占用不同\n",
    "    - 准确性\n",
    "    - 表达能力"
   ]
  },
  {
   "cell_type": "code",
   "execution_count": 8,
   "metadata": {},
   "outputs": [
    {
     "data": {
      "text/plain": [
       "True"
      ]
     },
     "execution_count": 8,
     "metadata": {},
     "output_type": "execute_result"
    }
   ],
   "source": [
    "bool(-5)"
   ]
  },
  {
   "cell_type": "code",
   "execution_count": 7,
   "metadata": {},
   "outputs": [
    {
     "data": {
      "text/plain": [
       "False"
      ]
     },
     "execution_count": 7,
     "metadata": {},
     "output_type": "execute_result"
    }
   ],
   "source": [
    "bool(0)"
   ]
  },
  {
   "cell_type": "code",
   "execution_count": 2,
   "metadata": {},
   "outputs": [],
   "source": [
    "a = 5"
   ]
  },
  {
   "cell_type": "code",
   "execution_count": 10,
   "metadata": {},
   "outputs": [
    {
     "data": {
      "text/plain": [
       "5.0"
      ]
     },
     "execution_count": 10,
     "metadata": {},
     "output_type": "execute_result"
    }
   ],
   "source": [
    "float(a)"
   ]
  },
  {
   "cell_type": "code",
   "execution_count": 11,
   "metadata": {},
   "outputs": [
    {
     "data": {
      "text/plain": [
       "1"
      ]
     },
     "execution_count": 11,
     "metadata": {},
     "output_type": "execute_result"
    }
   ],
   "source": [
    "int(True)"
   ]
  },
  {
   "cell_type": "markdown",
   "metadata": {},
   "source": [
    "#### 变量 Variable"
   ]
  },
  {
   "cell_type": "code",
   "execution_count": null,
   "metadata": {},
   "outputs": [],
   "source": [
    "c = float(a)"
   ]
  },
  {
   "cell_type": "code",
   "execution_count": 14,
   "metadata": {},
   "outputs": [
    {
     "data": {
      "text/plain": [
       "True"
      ]
     },
     "execution_count": 14,
     "metadata": {},
     "output_type": "execute_result"
    }
   ],
   "source": [
    "a == b"
   ]
  },
  {
   "cell_type": "code",
   "execution_count": 15,
   "metadata": {},
   "outputs": [
    {
     "data": {
      "text/plain": [
       "3.141592653589793"
      ]
     },
     "execution_count": 15,
     "metadata": {},
     "output_type": "execute_result"
    }
   ],
   "source": [
    "import math\n",
    "\n",
    "math.pi"
   ]
  },
  {
   "cell_type": "code",
   "execution_count": 17,
   "metadata": {},
   "outputs": [
    {
     "data": {
      "text/plain": [
       "10.58"
      ]
     },
     "execution_count": 17,
     "metadata": {},
     "output_type": "execute_result"
    }
   ],
   "source": [
    "round(10.577655, 2)"
   ]
  },
  {
   "cell_type": "code",
   "execution_count": 18,
   "metadata": {},
   "outputs": [
    {
     "data": {
      "text/plain": [
       "523.5987755982989"
      ]
     },
     "execution_count": 18,
     "metadata": {},
     "output_type": "execute_result"
    }
   ],
   "source": [
    "radius = 5\n",
    "volumn = (4/3) * math.pi * radius ** 3\n",
    "volumn"
   ]
  },
  {
   "cell_type": "code",
   "execution_count": 19,
   "metadata": {},
   "outputs": [
    {
     "data": {
      "text/plain": [
       "945.4499999999999"
      ]
     },
     "execution_count": 19,
     "metadata": {},
     "output_type": "execute_result"
    }
   ],
   "source": [
    "cover = 24.95\n",
    "discount = cover * 0.6\n",
    "first = 3\n",
    "extra = 0.75\n",
    "num = 60\n",
    "\n",
    "book_cost = discount * num\n",
    "shipping = first + (num - 1) * extra\n",
    "total = book_cost + shipping\n",
    "total"
   ]
  },
  {
   "cell_type": "code",
   "execution_count": 20,
   "metadata": {},
   "outputs": [
    {
     "data": {
      "text/plain": [
       "24"
      ]
     },
     "execution_count": 20,
     "metadata": {},
     "output_type": "execute_result"
    }
   ],
   "source": [
    "math.factorial(4)"
   ]
  },
  {
   "cell_type": "code",
   "execution_count": 21,
   "metadata": {},
   "outputs": [
    {
     "data": {
      "text/plain": [
       "18.0"
      ]
     },
     "execution_count": 21,
     "metadata": {},
     "output_type": "execute_result"
    }
   ],
   "source": [
    "float(age)"
   ]
  },
  {
   "cell_type": "markdown",
   "metadata": {},
   "source": [
    "### 字符串\n",
    "\n",
    "> 专门的称呼是str，全称是string\n",
    "\n",
    "**一串字符按照顺序连接在一起**\n",
    "特点：\n",
    "1. 一堆元素的集合\n",
    "2. 有序的集合 -> 序列（secquence）\n",
    "3. 元素只包含字符\n",
    "\n",
    "转义符\n",
    "- \\n 换行符\n",
    "- \\\\ 反斜杠\n",
    "\n",
    "> max()函数返回字符串中的最大字符，按照ASCII值进行比较"
   ]
  },
  {
   "cell_type": "code",
   "execution_count": 25,
   "metadata": {},
   "outputs": [
    {
     "name": "stdout",
     "output_type": "stream",
     "text": [
      "Hello \\nWorld\n"
     ]
    }
   ],
   "source": [
    "print(\"Hello \\\\nWorld\")"
   ]
  },
  {
   "cell_type": "markdown",
   "metadata": {},
   "source": [
    "##### 原始字符串 Raw"
   ]
  },
  {
   "cell_type": "code",
   "execution_count": 28,
   "metadata": {},
   "outputs": [
    {
     "name": "stdout",
     "output_type": "stream",
     "text": [
      "C:\\Users\\Hu\\jupyter\n"
     ]
    }
   ],
   "source": [
    "print(r\"C:\\Users\\Hu\\jupyter\")"
   ]
  },
  {
   "cell_type": "markdown",
   "metadata": {},
   "source": [
    "##### 格式化字符串"
   ]
  },
  {
   "cell_type": "code",
   "execution_count": 29,
   "metadata": {},
   "outputs": [
    {
     "name": "stdout",
     "output_type": "stream",
     "text": [
      "My name is kate, my age is 19.\n"
     ]
    }
   ],
   "source": [
    "age = 18\n",
    "name = 'kate'\n",
    "print(f\"My name is {name}, my age is {age + 1}.\")"
   ]
  },
  {
   "cell_type": "code",
   "execution_count": 31,
   "metadata": {},
   "outputs": [
    {
     "data": {
      "text/plain": [
       "'Beijing2008'"
      ]
     },
     "execution_count": 31,
     "metadata": {},
     "output_type": "execute_result"
    }
   ],
   "source": [
    "\"Beijing\" + str(2008)"
   ]
  },
  {
   "cell_type": "code",
   "execution_count": 33,
   "metadata": {},
   "outputs": [
    {
     "data": {
      "text/plain": [
       "'www.google.com'"
      ]
     },
     "execution_count": 33,
     "metadata": {},
     "output_type": "execute_result"
    }
   ],
   "source": [
    "web_1 = \"www,google,com\"\n",
    "\n",
    "web_1 = web_1.replace(',', '.')\n",
    "web_1"
   ]
  },
  {
   "cell_type": "markdown",
   "metadata": {},
   "source": [
    "##### 字符串中找子字符串\n",
    "- index()：如果找到字符串，则返回第一个匹配的子字符串的索引位置，如果未找到子字符串，则抛出ValueError异常\n",
    "- find() :如果找到字符串，则返回第一个匹配的子字符串的索引位置，如果未找到子字符串，则返回-1\n",
    "\n",
    "总结：不确定是否能找到，用find()，如果确定子字符串一定存在，使用Index()，因为更直观，便于调试和处理"
   ]
  },
  {
   "cell_type": "code",
   "execution_count": 34,
   "metadata": {},
   "outputs": [
    {
     "data": {
      "text/plain": [
       "4"
      ]
     },
     "execution_count": 34,
     "metadata": {},
     "output_type": "execute_result"
    }
   ],
   "source": [
    "first = web_1.index('g')\n",
    "first"
   ]
  },
  {
   "cell_type": "code",
   "execution_count": 35,
   "metadata": {},
   "outputs": [
    {
     "data": {
      "text/plain": [
       "7"
      ]
     },
     "execution_count": 35,
     "metadata": {},
     "output_type": "execute_result"
    }
   ],
   "source": [
    "second = web_1.index('g', first + 1)\n",
    "second"
   ]
  },
  {
   "cell_type": "code",
   "execution_count": null,
   "metadata": {},
   "outputs": [],
   "source": []
  }
 ],
 "metadata": {
  "kernelspec": {
   "display_name": "Python [conda env:base] *",
   "language": "python",
   "name": "conda-base-py"
  },
  "language_info": {
   "codemirror_mode": {
    "name": "ipython",
    "version": 3
   },
   "file_extension": ".py",
   "mimetype": "text/x-python",
   "name": "python",
   "nbconvert_exporter": "python",
   "pygments_lexer": "ipython3",
   "version": "3.12.7"
  }
 },
 "nbformat": 4,
 "nbformat_minor": 4
}
