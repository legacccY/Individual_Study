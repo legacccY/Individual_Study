{
 "cells": [
  {
   "cell_type": "markdown",
   "metadata": {},
   "source": [
    "## 函数是什么\n",
    "\n",
    "函数的作用\n",
    "- 分而治之\n",
    "- 代码重用\n",
    "\n",
    "**定义def，这个词来源于define**"
   ]
  },
  {
   "cell_type": "code",
   "execution_count": 2,
   "metadata": {},
   "outputs": [
    {
     "name": "stdout",
     "output_type": "stream",
     "text": [
      "4\n"
     ]
    }
   ],
   "source": [
    "def my_len(x: list):\n",
    "    length = 0\n",
    "    for item in x:\n",
    "        length += 1        \n",
    "    return length\n",
    "\n",
    "my_list = [2, 5, 7, 10]\n",
    "print(my_len(my_list))"
   ]
  },
  {
   "cell_type": "code",
   "execution_count": 7,
   "metadata": {},
   "outputs": [],
   "source": [
    "def fibonacci(n):\n",
    "    # 初始化数列的前两个元素\n",
    "    fibonacci = [0, 1]\n",
    "    \n",
    "    # 生成斐波那契数列到指定长度\n",
    "    while len(fibonacci) < n:\n",
    "        next_number = fibonacci[-1] + fibonacci[-2]\n",
    "        fibonacci.append(next_number)\n",
    "        \n",
    "    return fibonacci"
   ]
  },
  {
   "cell_type": "code",
   "execution_count": 4,
   "metadata": {},
   "outputs": [
    {
     "data": {
      "text/plain": [
       "[0, 1, 1, 2, 3, 5]"
      ]
     },
     "execution_count": 4,
     "metadata": {},
     "output_type": "execute_result"
    }
   ],
   "source": [
    "fibonacci(6)"
   ]
  },
  {
   "cell_type": "code",
   "execution_count": 8,
   "metadata": {},
   "outputs": [
    {
     "ename": "TypeError",
     "evalue": "fibonacci() missing 1 required positional argument: 'n'",
     "output_type": "error",
     "traceback": [
      "\u001b[1;31m---------------------------------------------------------------------------\u001b[0m",
      "\u001b[1;31mTypeError\u001b[0m                                 Traceback (most recent call last)",
      "\u001b[1;32m<ipython-input-8-9f4a5433493a>\u001b[0m in \u001b[0;36m<module>\u001b[1;34m\u001b[0m\n\u001b[1;32m----> 1\u001b[1;33m \u001b[0mfibonacci\u001b[0m\u001b[1;33m(\u001b[0m\u001b[1;33m)\u001b[0m\u001b[1;33m\u001b[0m\u001b[1;33m\u001b[0m\u001b[0m\n\u001b[0m",
      "\u001b[1;31mTypeError\u001b[0m: fibonacci() missing 1 required positional argument: 'n'"
     ]
    }
   ],
   "source": [
    "fibonacci()"
   ]
  },
  {
   "cell_type": "code",
   "execution_count": null,
   "metadata": {},
   "outputs": [],
   "source": [
    "def fibonacci_initial(n, a, b):\n",
    "    # 初始化数列的前两个元素\n",
    "    fibonacci = [a, b]\n",
    "    \n",
    "    # 生成斐波那契数列到指定长度\n",
    "    while len(fibonacci) < n:\n",
    "        next_number = fibonacci[-1] + fibonacci[-2]\n",
    "        fibonacci.append(next_number)\n",
    "        \n",
    "    return fibonacci, fibonacci[-1]\n",
    "\n",
    "fibonacci_initial(6, 2, 3)"
   ]
  },
  {
   "cell_type": "markdown",
   "metadata": {},
   "source": [
    "### 参数和变量\n",
    "\n",
    "**参数（parameter）**\n",
    "> 参数是函数的输入，用于传递数据给函数，而变量是用来存储数据的\n",
    "\n",
    "- 参数是在定义函数时列出的变量名，用于接收函数调用时传递进来的值\n",
    "- 参数相当于是函数的接口，定义了函数需要什么样的输入才能执行任务\n",
    "- 当我们定义函数时，参数是函数头中用逗号分隔的变量名列表\n",
    "- 参数在函数被调用的时候被赋予具体的值，当函数调用时，需要提供与参数列表相匹配的实际值，这些值称为参数的实参（argument）\n",
    "- 参数可以有默认值，如果函数在被调用时没有提供对应的参数，则使用默认值\n",
    "\n",
    "**变量（variable）**\n",
    "- 变量是用于存储数据的标识符，它们可以在程序中引用和操作\n",
    "- 变量的作用范围取决于它们在程序中的定义位置，通常遵顼作用域规则\n",
    "- 函数内定义的变量通常称为局部变量（local variable），只在函数内部可见\n",
    "- 在函数外部被定义的变量通常称为全局变量（global variable），它们可以在整个程序中访问\n",
    "\n",
    "1. 目的不同\n",
    "2. 生命周期不同：参数在被调用时存在，而变量在函数执行的时候存在\n",
    "3. 作用域不同\n",
    "4. 可修改性不同"
   ]
  },
  {
   "cell_type": "code",
   "execution_count": 11,
   "metadata": {},
   "outputs": [
    {
     "name": "stdout",
     "output_type": "stream",
     "text": [
      "10\n"
     ]
    }
   ],
   "source": [
    "def my_function(param):\n",
    "    \"\"\"\n",
    "    文档字符串\n",
    "    很多\n",
    "    行的\n",
    "    内容\n",
    "    \"\"\"\n",
    "    param = param * 2\n",
    "    my_var = param + 1 \n",
    "    return my_var\n",
    "    \n",
    "# 函数作用域外\n",
    "my_var = 10\n",
    "my_function(my_var)\n",
    "\n",
    "print(my_var)"
   ]
  },
  {
   "cell_type": "markdown",
   "metadata": {},
   "source": [
    "#### 参数\n",
    "\n",
    "- 形参\n",
    "- 实参\n",
    "    - 实参是在函数调用时传递给形参的值\n",
    "    - 可以是任何有效的python表达式，比如常量、变量、函数调用或者是一个复杂的复合表达式\n",
    "    - 当函数被调用的时候，实参的值会传递给对应的形参\n",
    "    \n",
    "**值传递**\n",
    "参数的传递是按照位置的，实参必须与形参按照正确的顺序对应。实参的值被传递给形参，使得形参在函数执行时可以访问这些值。\n",
    "\n",
    "**引用传递**\n",
    "函数的参数传递遵循的是“引用传递”（pass by reference）机制，这意味着无论是整数、浮点数、字典、还是列表，传递给函数的，都是对象的引用，函数内部对参数所作的任何修改都会反应到调用函数中"
   ]
  },
  {
   "cell_type": "code",
   "execution_count": 12,
   "metadata": {},
   "outputs": [],
   "source": [
    "def modify_dict(d: dict):\n",
    "    d['new_key'] = 'new value'\n",
    "    d['old_key'] = 'mofidied value'\n",
    "    del d['unneeded_key']"
   ]
  },
  {
   "cell_type": "code",
   "execution_count": 14,
   "metadata": {},
   "outputs": [
    {
     "data": {
      "text/plain": [
       "{'old_key': 'old value', 'unneeded_key': 'unneeded value'}"
      ]
     },
     "execution_count": 14,
     "metadata": {},
     "output_type": "execute_result"
    }
   ],
   "source": [
    "original_dict = {'old_key': 'old value', 'unneeded_key': 'unneeded value'}\n",
    "original_dict"
   ]
  },
  {
   "cell_type": "code",
   "execution_count": 15,
   "metadata": {},
   "outputs": [
    {
     "data": {
      "text/plain": [
       "{'old_key': 'mofidied value', 'new_key': 'new value'}"
      ]
     },
     "execution_count": 15,
     "metadata": {},
     "output_type": "execute_result"
    }
   ],
   "source": [
    "modify_dict(original_dict)\n",
    "original_dict"
   ]
  },
  {
   "cell_type": "markdown",
   "metadata": {},
   "source": [
    "写一个函数，接收一个列表作为参数，在函数内部对列表做出的修改，不会影响到原始列表 -> 在return中显式地返回新列表\n",
    "\n",
    "逻辑：\n",
    "想要不修改原始列表 -> 创建一个新列表 -> 新列表可以在外部进行访问 -> 在return部分返回新列表"
   ]
  },
  {
   "cell_type": "code",
   "execution_count": 18,
   "metadata": {},
   "outputs": [
    {
     "name": "stdout",
     "output_type": "stream",
     "text": [
      "[1, 2, 3]\n",
      "[1, 2, 3, 'new item']\n"
     ]
    }
   ],
   "source": [
    "# 在return中返回修改内容\n",
    "def new_list(lst):\n",
    "    return lst + ['new item']\n",
    "    \n",
    "\n",
    "orginal_lst = [1, 2, 3]\n",
    "new_list = new_list(orginal_lst)\n",
    "print(orginal_lst)\n",
    "print(new_list)"
   ]
  },
  {
   "cell_type": "code",
   "execution_count": 19,
   "metadata": {},
   "outputs": [
    {
     "name": "stdout",
     "output_type": "stream",
     "text": [
      "3\n"
     ]
    }
   ],
   "source": [
    "def my_function(a, b=0):\n",
    "    print(a+b)\n",
    "\n",
    "my_function(3)"
   ]
  },
  {
   "cell_type": "code",
   "execution_count": 20,
   "metadata": {},
   "outputs": [
    {
     "name": "stdout",
     "output_type": "stream",
     "text": [
      "8\n"
     ]
    }
   ],
   "source": [
    "my_function(3, 5)"
   ]
  },
  {
   "cell_type": "markdown",
   "metadata": {},
   "source": [
    "###### 形参默认值一般放在参数列表的最后，为了避免函数调用时产生歧义，以及提高函数的可读性和易用性"
   ]
  },
  {
   "cell_type": "code",
   "execution_count": null,
   "metadata": {},
   "outputs": [],
   "source": [
    "def example_func(a, b=0, c):\n",
    "    pass"
   ]
  },
  {
   "cell_type": "code",
   "execution_count": null,
   "metadata": {},
   "outputs": [],
   "source": [
    "example_func(1, 2)"
   ]
  },
  {
   "cell_type": "markdown",
   "metadata": {},
   "source": [
    "#### 不定长参数\n",
    "\n",
    "> 函数可以接收任意数量的参数\n",
    "\n",
    "- *args 用于传递一个不定长的参数序列，这些参数被收集到一个元组中，用于函数需要接收一个或多个位置参数的场景\n",
    "- **kwargs 用于传递一个不定长的参数字典，这些参数被收集到字典中，通常用于函数需要接收一个或多个关键字参数的场景\n",
    "\n",
    "注意：\n",
    "1. *args和**kwargs只能用于函数的参数列表的最后一项，因为它们用来手机所有未被其他参数指定的参数。\n",
    "2. 当使用*args时，它总是创建一个元组，即便只传递了一个参数\n",
    "3. 当使用**kwargs时，它总是创建一个字典，即便只传递了一个关键字参数"
   ]
  },
  {
   "cell_type": "code",
   "execution_count": 21,
   "metadata": {},
   "outputs": [
    {
     "name": "stdout",
     "output_type": "stream",
     "text": [
      "1\n",
      "2\n",
      "3\n",
      "4\n",
      "5\n",
      "6\n"
     ]
    }
   ],
   "source": [
    "def func(*args):\n",
    "    for arg in args:\n",
    "        print(arg)\n",
    "        \n",
    "func(1, 2, 3, 4, 5, 6)"
   ]
  },
  {
   "cell_type": "code",
   "execution_count": 22,
   "metadata": {},
   "outputs": [
    {
     "name": "stdout",
     "output_type": "stream",
     "text": [
      "a: 1\n",
      "b: 2\n",
      "c: 3\n",
      "d: 4\n"
     ]
    }
   ],
   "source": [
    "def func_two(**kwargs):\n",
    "    for key, value in kwargs.items():\n",
    "        print(f\"{key}: {value}\")\n",
    "        \n",
    "func_two(a=1, b=2, c=3, d=4)"
   ]
  },
  {
   "cell_type": "code",
   "execution_count": 23,
   "metadata": {},
   "outputs": [
    {
     "name": "stdout",
     "output_type": "stream",
     "text": [
      "(1, 2, 3, 4)\n",
      "{'a': 1, 'b': 3}\n"
     ]
    }
   ],
   "source": [
    "def func_param(*args, **kwargs):\n",
    "    print(args)\n",
    "    print(kwargs)\n",
    "    \n",
    "func_param(1, 2, 3, 4, a=1, b=3)"
   ]
  },
  {
   "cell_type": "markdown",
   "metadata": {},
   "source": [
    "#### 全局变量和局部变量\n",
    "\n",
    "全局变量：\n",
    "- 全局范围内定义，可以在整个程序的任何地方访问\n",
    "- 通常在函数外部定义，并且不属于任何特定的函数\n",
    "- 函数内部可以访问全局变量，但是不能直接修改，如果要在函数内部修改全局变量的值，需要使用global关键字声明\n",
    "- 全局变量程序启动时创建，在程序结束时销毁\n",
    "\n",
    "局部变量：\n",
    "- 函数内部定义，只能在函数内部访问\n",
    "- 作用域限制为定义它们的函数内部，超出该函数范围将无法访问\n",
    "- 局部变量在函数调用时创建，在函数执行完毕后被销毁"
   ]
  },
  {
   "cell_type": "code",
   "execution_count": 28,
   "metadata": {},
   "outputs": [
    {
     "name": "stdout",
     "output_type": "stream",
     "text": [
      "11\n"
     ]
    }
   ],
   "source": [
    "x = 10\n",
    "\n",
    "def var_example():\n",
    "    global x\n",
    "    x += 1\n",
    "    print(x)\n",
    "    \n",
    "var_example()"
   ]
  },
  {
   "cell_type": "code",
   "execution_count": 29,
   "metadata": {},
   "outputs": [
    {
     "name": "stdout",
     "output_type": "stream",
     "text": [
      "11\n"
     ]
    }
   ],
   "source": [
    "print(x)"
   ]
  },
  {
   "cell_type": "code",
   "execution_count": 32,
   "metadata": {},
   "outputs": [
    {
     "name": "stdout",
     "output_type": "stream",
     "text": [
      "20\n"
     ]
    },
    {
     "ename": "NameError",
     "evalue": "name 'abc' is not defined",
     "output_type": "error",
     "traceback": [
      "\u001b[1;31m---------------------------------------------------------------------------\u001b[0m",
      "\u001b[1;31mNameError\u001b[0m                                 Traceback (most recent call last)",
      "\u001b[1;32m<ipython-input-32-433ce3d2b56a>\u001b[0m in \u001b[0;36m<module>\u001b[1;34m\u001b[0m\n\u001b[0;32m      4\u001b[0m \u001b[1;33m\u001b[0m\u001b[0m\n\u001b[0;32m      5\u001b[0m \u001b[0mvar_local\u001b[0m\u001b[1;33m(\u001b[0m\u001b[1;33m)\u001b[0m\u001b[1;33m\u001b[0m\u001b[1;33m\u001b[0m\u001b[0m\n\u001b[1;32m----> 6\u001b[1;33m \u001b[0mprint\u001b[0m\u001b[1;33m(\u001b[0m\u001b[0mabc\u001b[0m\u001b[1;33m)\u001b[0m\u001b[1;33m\u001b[0m\u001b[1;33m\u001b[0m\u001b[0m\n\u001b[0m",
      "\u001b[1;31mNameError\u001b[0m: name 'abc' is not defined"
     ]
    }
   ],
   "source": [
    "def var_local():\n",
    "    abc = 20\n",
    "    print(abc)\n",
    "    \n",
    "var_local()\n",
    "print(abc)"
   ]
  },
  {
   "cell_type": "markdown",
   "metadata": {},
   "source": [
    "## 递归 Recursion\n",
    "\n",
    "> 递归是一种编程技术，它允许函数在遇到特定的条件时直接调用自身，这种技术通常用于解决可以分解为相似或者相同子问题的任务。\n",
    "\n",
    "**递归的关键在于，定义一个明确的终止条件，以便达到该条件时，函数可以返回一个值，并逐步退出**\n",
    "\n",
    "递归函数通常包含两个部分\n",
    "1. 递归条件：调用自身，传递小的问题\n",
    "2. 终止条件：明确条件，用于到达该条件时，函数不需要再调用自身，而是直接返回一个值\n",
    "\n",
    "使用递归时，应该注意：\n",
    "1. 性能：迭代或循环效率更高\n",
    "2. 栈限制：不能超过50次"
   ]
  },
  {
   "cell_type": "code",
   "execution_count": 35,
   "metadata": {},
   "outputs": [
    {
     "data": {
      "text/plain": [
       "1"
      ]
     },
     "execution_count": 35,
     "metadata": {},
     "output_type": "execute_result"
    }
   ],
   "source": [
    "def factorial(n):\n",
    "    if n == 0:\n",
    "        return 1\n",
    "    else:\n",
    "        return n * factorial(n - 1)\n",
    "    \n",
    "factorial(1)"
   ]
  },
  {
   "cell_type": "markdown",
   "metadata": {},
   "source": [
    "### 匿名函数 lambda\n",
    "\n",
    "> 没有名字的函数\n",
    "\n",
    "语法结构： lambda arguments: expression\n",
    "- arguments是函数的参数列表 -> 可以是一个或多个参数\n",
    "- expression 是函数的返回值表达式\n",
    "\n",
    "**用于高阶函数**\n",
    "lambda提供了一个简洁的方式来定义函数，无需为每个函数都创建单独的函数声明\n",
    "\n",
    "特点：\n",
    "1. 简洁\n",
    "2. 匿名\n",
    "3. 一次性使用：不会被保存在内存中，不能被其他部分调用"
   ]
  },
  {
   "cell_type": "code",
   "execution_count": null,
   "metadata": {},
   "outputs": [],
   "source": [
    "lanbda_add = lambda x, y: x + y\n",
    "lanbda_add(3, 4)"
   ]
  },
  {
   "cell_type": "code",
   "execution_count": null,
   "metadata": {},
   "outputs": [],
   "source": [
    "def func_a(x, y):\n",
    "    return x + y\n",
    "\n",
    "func_a(3, 4)"
   ]
  },
  {
   "cell_type": "code",
   "execution_count": 36,
   "metadata": {},
   "outputs": [
    {
     "name": "stdout",
     "output_type": "stream",
     "text": [
      "[1, 3, 6, 7]\n"
     ]
    }
   ],
   "source": [
    "def sort_nums(nums):\n",
    "    return sorted(nums, key=lambda x: x**2)\n",
    "\n",
    "nums = [3, 6, 7, 1]\n",
    "print(sort_nums(nums))"
   ]
  },
  {
   "cell_type": "code",
   "execution_count": null,
   "metadata": {},
   "outputs": [],
   "source": []
  }
 ],
 "metadata": {
  "kernelspec": {
   "display_name": "Python [conda env:base] *",
   "language": "python",
   "name": "conda-base-py"
  },
  "language_info": {
   "codemirror_mode": {
    "name": "ipython",
    "version": 3
   },
   "file_extension": ".py",
   "mimetype": "text/x-python",
   "name": "python",
   "nbconvert_exporter": "python",
   "pygments_lexer": "ipython3",
   "version": "3.12.7"
  }
 },
 "nbformat": 4,
 "nbformat_minor": 4
}
