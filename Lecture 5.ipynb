{
 "cells": [
  {
   "cell_type": "markdown",
   "metadata": {},
   "source": [
    "## OOP\n",
    "\n",
    "**对象**\n",
    "- 内置对象：整型、浮点型、字符串、布尔值等等\n",
    "- 用户定义的对象：定义类（class）来创建的对象，它们是根据业务逻辑或数据结构\n",
    "- 可调用对象：接收参数并返回结果 -> 函数、方法，或者任何实现了__call__特殊方法的对象\n",
    "\n",
    "**属性（Attribute）**\n",
    "> 属性是对象拥有的变量，它们存储了对象的状态或数据。\n",
    "\n",
    "- 属性可以通过操作符（.）来访问，在python中，属性可以是任意类型的数据，包括整型、字符串、列表...\n",
    "\n",
    "**方法（Method）**\n",
    "> 方法是指对象可以调用的函数，它们是对象行为的表现。\n",
    "\n",
    "- 方法通常和特定的对象相关联，通过对象来调用，其作用是对对象进行操作或获取有关对象的信息。\n",
    "- 方法通过对象名和圆括号来调用 -> my_object.my_method()\n",
    "\n",
    "**OOP的四个核心概念**\n",
    "1. 类（class）与对象（object）\n",
    "2. 封装（Encapsulation）\n",
    "3. 继承（Inheritance）\n",
    "4. 多态（Polymorphism）"
   ]
  },
  {
   "cell_type": "code",
   "execution_count": 5,
   "metadata": {},
   "outputs": [
    {
     "name": "stdout",
     "output_type": "stream",
     "text": [
      "Attribute1: 属性1的值\n",
      "属性2的值\n"
     ]
    }
   ],
   "source": [
    "class MyObject:\n",
    "    \"\"\"\n",
    "    对类进行一些说明\n",
    "    \"\"\"\n",
    "    def __init__(self, attribute1, attribute2):\n",
    "        self.attribute1 = attribute1\n",
    "        self.attribute2 = attribute2\n",
    "        \n",
    "    def my_method(self):\n",
    "        print(f\"Attribute1: {self.attribute1}\")\n",
    "        \n",
    "my_object = MyObject(\"属性1的值\", \"属性2的值\")\n",
    "my_object.my_method()\n",
    "\n",
    "print(my_object.attribute2)"
   ]
  },
  {
   "cell_type": "code",
   "execution_count": 4,
   "metadata": {},
   "outputs": [
    {
     "data": {
      "text/plain": [
       "'属性1的值'"
      ]
     },
     "execution_count": 4,
     "metadata": {},
     "output_type": "execute_result"
    }
   ],
   "source": [
    "my_object.attribute1"
   ]
  },
  {
   "cell_type": "code",
   "execution_count": 7,
   "metadata": {},
   "outputs": [
    {
     "data": {
      "text/plain": [
       "__main__.MyObject"
      ]
     },
     "execution_count": 7,
     "metadata": {},
     "output_type": "execute_result"
    }
   ],
   "source": [
    "type(my_object)"
   ]
  },
  {
   "cell_type": "code",
   "execution_count": null,
   "metadata": {},
   "outputs": [],
   "source": [
    "def __add__(x, y):\n",
    "    return x + y"
   ]
  },
  {
   "cell_type": "markdown",
   "metadata": {},
   "source": [
    "#### 类\n",
    "\n",
    "- 属性\n",
    "    - 实例属性：每个实例都拥有的独特属性，它们在实例化时被创建，并且每个实例都能拥有不同的值\n",
    "        - 实例属性用于存储与特定实例相关的信息\n",
    "        - 在类的定义中，实例属性通常在__init__方法中进行初始化。（__init__是一个特殊的方法，它在创建实例时被自动调用，在__init__方法中，我们通常使用self参数来设置实例属性的值）\n",
    "    - 类属性：描述了类的状态或特征，它们是类的数据成员，所有的实例都共享的值\n",
    "        - 用于存储与所有实例相关的信息\n",
    "        - 在类的定义中，类属性可以直接在类中定义，而不是在__init__构造方法中\n",
    "        \n",
    "- 方法\n",
    "    - 实例方法\n",
    "        - 通常通过self来访问和操作实例属性\n",
    "        - 该方法的调用主体是某个类的具体实例对象，而不是该类本身\n",
    "        - 实例方法的首个参数必须是self -> self就是调用该函数的调用主体\n",
    "    - 类方法\n",
    "        - 静态方法 -> 调用主体是类Class本身"
   ]
  },
  {
   "cell_type": "code",
   "execution_count": null,
   "metadata": {},
   "outputs": [],
   "source": [
    "10"
   ]
  },
  {
   "cell_type": "code",
   "execution_count": 6,
   "metadata": {},
   "outputs": [
    {
     "data": {
      "text/plain": [
       "int"
      ]
     },
     "execution_count": 6,
     "metadata": {},
     "output_type": "execute_result"
    }
   ],
   "source": [
    "type(10)"
   ]
  },
  {
   "cell_type": "code",
   "execution_count": 15,
   "metadata": {},
   "outputs": [
    {
     "name": "stdout",
     "output_type": "stream",
     "text": [
      "human\n"
     ]
    }
   ],
   "source": [
    "class Person:\n",
    "    species = 'human'\n",
    "    \n",
    "    def __init__(self, n, age):\n",
    "        self.name = n\n",
    "        self.age = age\n",
    "        \n",
    "    def introduce(self):\n",
    "        print(f\"My name is {self.name}, and I am {self.age} years old.\")\n",
    "        \n",
    "    def eat():\n",
    "        print(\"Need to eat everyday.\")\n",
    "        \n",
    "    def check(self):\n",
    "        print(self)\n",
    "    \n",
    "print(Person.species)"
   ]
  },
  {
   "cell_type": "markdown",
   "metadata": {},
   "source": [
    "#### 实例（instance）\n",
    "\n",
    "1. 实例化 -> 通过一个类的定义去生成一个该类的实例\n",
    "2. 属性访问 -> 一旦实例化，可以通过点号（.）来访问实例的属性\n",
    "3. 方法调用 -> 类的实例可以调用类定义的方法"
   ]
  },
  {
   "cell_type": "code",
   "execution_count": 12,
   "metadata": {},
   "outputs": [
    {
     "name": "stdout",
     "output_type": "stream",
     "text": [
      "My name is Alice, and I am 15 years old.\n"
     ]
    }
   ],
   "source": [
    "alice = Person('Alice', 15)\n",
    "alice.introduce()"
   ]
  },
  {
   "cell_type": "code",
   "execution_count": 16,
   "metadata": {},
   "outputs": [
    {
     "name": "stdout",
     "output_type": "stream",
     "text": [
      "<__main__.Person object at 0x00000219CAFF70F0>\n"
     ]
    }
   ],
   "source": [
    "alice = Person('Alice', 15)\n",
    "alice.check()"
   ]
  },
  {
   "cell_type": "code",
   "execution_count": 13,
   "metadata": {},
   "outputs": [
    {
     "name": "stdout",
     "output_type": "stream",
     "text": [
      "15\n"
     ]
    }
   ],
   "source": [
    "print(alice.age)"
   ]
  },
  {
   "cell_type": "markdown",
   "metadata": {},
   "source": [
    "#### 重写（override）\n",
    "\n",
    "> 原本就有这个方法，修改就叫override方法重写"
   ]
  },
  {
   "cell_type": "markdown",
   "metadata": {},
   "source": [
    "## 练习\n",
    "**定义一个Vector类型**\n",
    "- 要求Vector类型具有两个实例属性x, y\n",
    "- 通过重新定义构造方法，传入两个参数用于定义实例的x和y属性\n",
    "- 重写__str__方法，让Vector类的实例的形式为“（x, y）”\n",
    "\n",
    "**计算两个实例之间的距离**\n",
    "- 定义一个distance()方法，用于计算两个向量之间的距离\n",
    "    - 类方法 -> Vector.get_distance(v1, v2)\n",
    "    - 实例方法 —> v1.distance(v2)"
   ]
  },
  {
   "cell_type": "code",
   "execution_count": 27,
   "metadata": {},
   "outputs": [],
   "source": [
    "import math\n",
    "\n",
    "class Vector:\n",
    "    \"\"\"\n",
    "    自定义一个Vector类，用于进行二维向量的计算\n",
    "    \"\"\"\n",
    "    def __init__(self, x, y):\n",
    "        \"\"\"用于创建Vector类的实例，接收两个参数x, y作为实例的属性，表示该向量在坐标轴上的位置\"\"\"\n",
    "        self.x = x\n",
    "        self.y = y\n",
    "        \n",
    "    def __str__(self):\n",
    "        \"\"\"字符串化方法，用于返回该实例转化为str类型后的结果\"\"\"\n",
    "        return f\"({self.x}, {self.y})\"\n",
    "    \n",
    "    # 类方法\n",
    "    def get_distance(v1, v2):\n",
    "        dis = math.sqrt((v1.x - v2.x)**2 + (v1.y - v2.y)**2)\n",
    "        return dis\n",
    "    \n",
    "    # 实例方法\n",
    "    def distance(self, other):\n",
    "        dis = math.sqrt((self.x - other.x)**2 + (self.y - other.y)**2)\n",
    "        return dis"
   ]
  },
  {
   "cell_type": "code",
   "execution_count": 28,
   "metadata": {},
   "outputs": [],
   "source": [
    "v1 = Vector(3, 1)\n",
    "v2 = Vector(-1, 2)"
   ]
  },
  {
   "cell_type": "code",
   "execution_count": 19,
   "metadata": {},
   "outputs": [
    {
     "name": "stdout",
     "output_type": "stream",
     "text": [
      "<__main__.Vector object at 0x00000219CAFF7780>\n"
     ]
    }
   ],
   "source": [
    "print(v1)"
   ]
  },
  {
   "cell_type": "code",
   "execution_count": 23,
   "metadata": {},
   "outputs": [
    {
     "name": "stdout",
     "output_type": "stream",
     "text": [
      "(-1, 2)\n"
     ]
    }
   ],
   "source": [
    "print(v2)"
   ]
  },
  {
   "cell_type": "code",
   "execution_count": 26,
   "metadata": {},
   "outputs": [
    {
     "data": {
      "text/plain": [
       "4.123105625617661"
      ]
     },
     "execution_count": 26,
     "metadata": {},
     "output_type": "execute_result"
    }
   ],
   "source": [
    "Vector.get_distance(v1, v2)"
   ]
  },
  {
   "cell_type": "code",
   "execution_count": 29,
   "metadata": {},
   "outputs": [
    {
     "data": {
      "text/plain": [
       "4.123105625617661"
      ]
     },
     "execution_count": 29,
     "metadata": {},
     "output_type": "execute_result"
    }
   ],
   "source": [
    "v1.distance(v2)"
   ]
  },
  {
   "cell_type": "markdown",
   "metadata": {},
   "source": [
    "## 练习：手写链表（数据结构）\n",
    "\n",
    "**python的list和其底层实现**\n",
    "> list的底层实现是动态数组，而不是链表\n",
    "\n",
    "- 动态扩展（无需手动管理大小）\n",
    "- 随机访问（支持索引lst[1]）\n",
    "- 快速追加和删除（中间插入或删除较慢）\n",
    "\n",
    "**优点**\n",
    "- 随机访问快\n",
    "- 自动扩展\n",
    "- 缓存友好，数据局部性好\n",
    "\n",
    "**缺点**\n",
    "- 插入、删除慢（需要移动元素）\n",
    "- 扩容时需要复制\n",
    "- 中间插入效率低"
   ]
  },
  {
   "cell_type": "code",
   "execution_count": 31,
   "metadata": {},
   "outputs": [
    {
     "name": "stdout",
     "output_type": "stream",
     "text": [
      "64\n",
      "长度：1，内存大小：96\n",
      "长度：2，内存大小：96\n",
      "长度：3，内存大小：96\n",
      "长度：4，内存大小：96\n",
      "长度：5，内存大小：128\n",
      "长度：6，内存大小：128\n",
      "长度：7，内存大小：128\n",
      "长度：8，内存大小：128\n",
      "长度：9，内存大小：192\n",
      "长度：10，内存大小：192\n"
     ]
    }
   ],
   "source": [
    "import sys\n",
    "\n",
    "arr = [] # 创建空列表\n",
    "print(sys.getsizeof(arr)) # 获取内存大小\n",
    "\n",
    "for i in range(10):\n",
    "    arr.append(i)\n",
    "    print(f\"长度：{len(arr)}，内存大小：{sys.getsizeof(arr)}\")"
   ]
  },
  {
   "cell_type": "markdown",
   "metadata": {},
   "source": [
    "#### 链表 LinkedList\n",
    "\n",
    "**什么是链表？**\n",
    "> 数据结构 -> 由多个节点（Node）组成\n",
    "\n",
    "每个节点包括：\n",
    "- 数据（data）\n",
    "- 指向下一个节点的指针（Next）\n",
    "\n",
    "*head -> [10 | next] -> [20 | next] -> [30 | next] -> None*\n",
    "\n",
    "- 每一个节点都知道下一个节点的位置，但是不知道前一个节点（除非是双向链表）\n",
    "- 链表不像list需要连续的内存块，它的每个节点都可以分散存储，依靠的是next指针链接\n",
    "\n",
    "链表 vs 动态数组\n",
    "- 内存存储：分散（指针链接） vs 连续存储的内存块\n",
    "- 访问速度：顺序遍历 vs 索引访问\n",
    "- 插入删除：仅修改指针 vs 移动元素\n",
    "- 空间移动：节省内存（无预留） vs 可能有多余的空间"
   ]
  },
  {
   "cell_type": "code",
   "execution_count": 32,
   "metadata": {},
   "outputs": [],
   "source": [
    "class Node:\n",
    "    def __init__(self, data):\n",
    "        self.data = data\n",
    "        self.next = None  # 指向下一个节点"
   ]
  },
  {
   "cell_type": "code",
   "execution_count": 36,
   "metadata": {},
   "outputs": [],
   "source": [
    "class LinkedList:\n",
    "    def __init__(self):\n",
    "        self.head = None\n",
    "      \n",
    "    def append():\n",
    "        \"\"\"在链表末尾添加元素\"\"\"\n",
    "        \n",
    "    def insert_after(self, prev_node, data):\n",
    "        \"\"\"在指定的节点后插入新的节点\"\"\"\n",
    "        if prev_node is None:\n",
    "            print(\"Previous node cannot be None\")\n",
    "            return \n",
    "        new_node = Node(data)\n",
    "        new_node.next = prev_node.next\n",
    "        prev_node.next = new_node\n",
    "        \n",
    "    def delete_node():\n",
    "        \"\"\"按照数值删除节点\"\"\"\n",
    "        \n",
    "    def display(self):\n",
    "        \"\"\"打印链表，每个节点之间通过 -> 来连接\"\"\"\n",
    "        current = self.head\n",
    "        while current:\n",
    "            print(current.data, end=' -> ')\n",
    "            current = current.next\n",
    "            \n",
    "        print(\"None\")"
   ]
  },
  {
   "cell_type": "code",
   "execution_count": 38,
   "metadata": {},
   "outputs": [
    {
     "name": "stdout",
     "output_type": "stream",
     "text": [
      "Previous node cannot be None\n"
     ]
    }
   ],
   "source": [
    "link_1 = LinkedList()\n",
    "node_10 = link_1.head\n",
    "link_1.insert_after(node_10, 15)"
   ]
  },
  {
   "cell_type": "code",
   "execution_count": 39,
   "metadata": {},
   "outputs": [
    {
     "name": "stdout",
     "output_type": "stream",
     "text": [
      "None\n"
     ]
    }
   ],
   "source": [
    "link_1.display()"
   ]
  },
  {
   "cell_type": "markdown",
   "metadata": {},
   "source": [
    "## 继承\n",
    "\n",
    "> MRO 就是类的方法解析顺序表，多重继承时，按照MRO的顺序查找并调用父类方法。如果子类重写了父类的方法，那么会优先使用子类的方法\n",
    "\n",
    "**枚举**\n",
    "> 限定了这种类。只能有几种不同的类型"
   ]
  },
  {
   "cell_type": "code",
   "execution_count": 40,
   "metadata": {},
   "outputs": [],
   "source": [
    "from enum import Enum\n",
    "\n",
    "class Color(Enum):\n",
    "    Red = 0\n",
    "    Green = 1\n",
    "    Blue = 2"
   ]
  },
  {
   "cell_type": "code",
   "execution_count": 41,
   "metadata": {},
   "outputs": [
    {
     "data": {
      "text/plain": [
       "<Color.Red: 0>"
      ]
     },
     "execution_count": 41,
     "metadata": {},
     "output_type": "execute_result"
    }
   ],
   "source": [
    "Color.Red"
   ]
  },
  {
   "cell_type": "code",
   "execution_count": null,
   "metadata": {},
   "outputs": [],
   "source": [
    "class UserGroup(Enum):\n",
    "    admin = 0\n",
    "    consumer = 1\n",
    "    merchant = 2\n",
    "    \n",
    "\n",
    "def check_usertype(user: User):\n",
    "    if user.UserGroup == UserGroup.admin:\n",
    "        pass\n",
    "    elif user.UserGroup == UserGroup.merchant:\n",
    "        pass\n",
    "    else:\n",
    "        pass\n"
   ]
  },
  {
   "cell_type": "markdown",
   "metadata": {},
   "source": [
    "#### 封装\n",
    "1. 数据隐藏：内部状态隐藏起来，只对外提供有限的接口来访问和修改这个状态。\n",
    "    - 比如一个类可以有私有属性来存储数据，但是提供公共方法来操作数据\n",
    "2. 访问限制：private和public修饰符来限制对属性的访问\n",
    "3. 公共接口\n",
    "4. 数据完整性"
   ]
  },
  {
   "cell_type": "code",
   "execution_count": 51,
   "metadata": {},
   "outputs": [],
   "source": [
    "class Person:\n",
    "    species = 'human'\n",
    "    __population = 0\n",
    "    \n",
    "    def __init__(self, n, age):\n",
    "        self.name = n\n",
    "        self.age = age\n",
    "        Person.__population += 1\n",
    "        \n",
    "    def introduce(self):\n",
    "        print(f\"My name is {self.name}, and I am {self.age} years old.\")\n",
    "        \n",
    "    def eat():\n",
    "        print(\"Need to eat everyday.\")\n",
    "        \n",
    "    def check(self):\n",
    "        print(self)\n",
    "    \n",
    "    def get_population():\n",
    "        return Person.__population\n",
    "    \n",
    "    def set_population(self, x: int):\n",
    "        Person.__population = x"
   ]
  },
  {
   "cell_type": "code",
   "execution_count": 44,
   "metadata": {},
   "outputs": [
    {
     "data": {
      "text/plain": [
       "'human'"
      ]
     },
     "execution_count": 44,
     "metadata": {},
     "output_type": "execute_result"
    }
   ],
   "source": [
    "Person.species"
   ]
  },
  {
   "cell_type": "code",
   "execution_count": 45,
   "metadata": {},
   "outputs": [
    {
     "ename": "AttributeError",
     "evalue": "type object 'Person' has no attribute '__population'",
     "output_type": "error",
     "traceback": [
      "\u001b[1;31m---------------------------------------------------------------------------\u001b[0m",
      "\u001b[1;31mAttributeError\u001b[0m                            Traceback (most recent call last)",
      "\u001b[1;32m<ipython-input-45-0424d26aa386>\u001b[0m in \u001b[0;36m<module>\u001b[1;34m\u001b[0m\n\u001b[1;32m----> 1\u001b[1;33m \u001b[0mPerson\u001b[0m\u001b[1;33m.\u001b[0m\u001b[0m__population\u001b[0m\u001b[1;33m\u001b[0m\u001b[1;33m\u001b[0m\u001b[0m\n\u001b[0m",
      "\u001b[1;31mAttributeError\u001b[0m: type object 'Person' has no attribute '__population'"
     ]
    }
   ],
   "source": [
    "Person.__population"
   ]
  },
  {
   "cell_type": "code",
   "execution_count": 49,
   "metadata": {},
   "outputs": [
    {
     "data": {
      "text/plain": [
       "0"
      ]
     },
     "execution_count": 49,
     "metadata": {},
     "output_type": "execute_result"
    }
   ],
   "source": [
    "Person.get_population()"
   ]
  },
  {
   "cell_type": "code",
   "execution_count": 52,
   "metadata": {},
   "outputs": [
    {
     "data": {
      "text/plain": [
       "1"
      ]
     },
     "execution_count": 52,
     "metadata": {},
     "output_type": "execute_result"
    }
   ],
   "source": [
    "alice = Person('Alice', 15)\n",
    "Person.get_population()"
   ]
  },
  {
   "cell_type": "code",
   "execution_count": 53,
   "metadata": {},
   "outputs": [
    {
     "data": {
      "text/plain": [
       "5"
      ]
     },
     "execution_count": 53,
     "metadata": {},
     "output_type": "execute_result"
    }
   ],
   "source": [
    "alice.set_population(5)\n",
    "Person.get_population()"
   ]
  },
  {
   "cell_type": "code",
   "execution_count": null,
   "metadata": {},
   "outputs": [],
   "source": []
  }
 ],
 "metadata": {
  "kernelspec": {
   "display_name": "Python 3",
   "language": "python",
   "name": "python3"
  },
  "language_info": {
   "codemirror_mode": {
    "name": "ipython",
    "version": 3
   },
   "file_extension": ".py",
   "mimetype": "text/x-python",
   "name": "python",
   "nbconvert_exporter": "python",
   "pygments_lexer": "ipython3",
   "version": "3.7.3"
  }
 },
 "nbformat": 4,
 "nbformat_minor": 2
}
