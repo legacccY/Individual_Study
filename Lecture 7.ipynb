{
 "cells": [
  {
   "cell_type": "markdown",
   "metadata": {},
   "source": [
    "## 错误和异常\n",
    "\n",
    "> 错误（Error）和异常(Exception)有不同的类型，它们在python中表示为不同的类，每个类有特定的含义和解决方法\n",
    "\n",
    "**错误**：指的是在程序的编译或者执行过程中发现的\n",
    "- 语法错误（Syntax Error）\n",
    "- 逻辑错误（Logical Error）\n",
    "\n",
    "**异常**：指的是程序执行期间发生的不预期事件 -> 可以通过异常处理的特殊代码块来进行处理\n",
    "*程序不一定会崩溃*\n",
    "- 内置异常\n",
    "- 自定义异常"
   ]
  },
  {
   "cell_type": "code",
   "execution_count": 2,
   "metadata": {},
   "outputs": [
    {
     "name": "stdout",
     "output_type": "stream",
     "text": [
      "不能除0\n"
     ]
    }
   ],
   "source": [
    "try:\n",
    "    try:\n",
    "#         print(a)\n",
    "        print(5/0)\n",
    "    except NameError:\n",
    "        print(\"没有a这个变量\")\n",
    "except:\n",
    "    print(\"不能除0\")"
   ]
  },
  {
   "cell_type": "code",
   "execution_count": null,
   "metadata": {},
   "outputs": [],
   "source": [
    "try:\n",
    "    do_something()\n",
    "except Exception1:\n",
    "    pass\n",
    "except Exception2:\n",
    "    pass\n",
    "except Exception3 as e:\n",
    "    print(f\"Caught Exception3: {e}\")"
   ]
  },
  {
   "cell_type": "markdown",
   "metadata": {},
   "source": [
    "## as e\n",
    "- type(e): 打印异常类型\n",
    "- e.message：访问异常的信息\n",
    "- e.args：访问异常的其他属性或方法 -> 元组"
   ]
  },
  {
   "cell_type": "code",
   "execution_count": 5,
   "metadata": {},
   "outputs": [
    {
     "ename": "AssertionError",
     "evalue": "无效的输入",
     "output_type": "error",
     "traceback": [
      "\u001b[1;31m---------------------------------------------------------------------------\u001b[0m",
      "\u001b[1;31mAssertionError\u001b[0m                            Traceback (most recent call last)",
      "\u001b[1;32m<ipython-input-5-5792c242ca0b>\u001b[0m in \u001b[0;36m<module>\u001b[1;34m\u001b[0m\n\u001b[0;32m      2\u001b[0m     \u001b[1;32mreturn\u001b[0m \u001b[1;32mFalse\u001b[0m\u001b[1;33m\u001b[0m\u001b[1;33m\u001b[0m\u001b[0m\n\u001b[0;32m      3\u001b[0m \u001b[1;33m\u001b[0m\u001b[0m\n\u001b[1;32m----> 4\u001b[1;33m \u001b[1;32massert\u001b[0m \u001b[0mis_valid\u001b[0m\u001b[1;33m(\u001b[0m\u001b[1;36m10\u001b[0m\u001b[1;33m)\u001b[0m\u001b[1;33m,\u001b[0m \u001b[1;34m'无效的输入'\u001b[0m\u001b[1;33m\u001b[0m\u001b[1;33m\u001b[0m\u001b[0m\n\u001b[0m",
      "\u001b[1;31mAssertionError\u001b[0m: 无效的输入"
     ]
    }
   ],
   "source": [
    "def is_valid(x):\n",
    "    return False\n",
    "\n",
    "assert is_valid(10), '无效的输入'"
   ]
  },
  {
   "cell_type": "markdown",
   "metadata": {},
   "source": [
    "### 练习：银行系统\n",
    "\n",
    "**要求**\n",
    "1. 定义一个BankAccount类，包含账户名、账户余额两个属性\n",
    "2. deposite() -> 存款（如果输入为负数，则抛出ValueError的异常）\n",
    "3. withdraw() -> 取款（负数/大于账户余额，则抛出ValueError的异常）\n",
    "4. get_balance() -> 返回账户当前的余额\n",
    "5. 创建用户，执行该用户多次取款存款的操作，每次操作后显示账户余额，并记录用户行为和余额到一个log日志中\n",
    "6. 对用户输入进行异常处理，确保用户输入为有效数字"
   ]
  },
  {
   "cell_type": "markdown",
   "metadata": {},
   "source": [
    "### 练习：统计文件中的单词频率\n",
    "**要求**\n",
    "\n",
    "1. 编写一个函数count_words()\n",
    "2. 读取文件“example.txt”，并统计文件中每个单词出现的次数，忽略大小写和标点符号\n",
    "3. 将结果按以下格式输出：{'Python': 3, 'is': 3, 'fun': 1, ...}\n",
    "4. 将统计结果写入文件“word_count.txt”中，一个单词一行"
   ]
  },
  {
   "cell_type": "code",
   "execution_count": null,
   "metadata": {},
   "outputs": [],
   "source": []
  }
 ],
 "metadata": {
  "kernelspec": {
   "display_name": "Python 3",
   "language": "python",
   "name": "python3"
  },
  "language_info": {
   "codemirror_mode": {
    "name": "ipython",
    "version": 3
   },
   "file_extension": ".py",
   "mimetype": "text/x-python",
   "name": "python",
   "nbconvert_exporter": "python",
   "pygments_lexer": "ipython3",
   "version": "3.7.3"
  }
 },
 "nbformat": 4,
 "nbformat_minor": 2
}
