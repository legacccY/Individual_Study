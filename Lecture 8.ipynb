{
 "cells": [
  {
   "cell_type": "markdown",
   "id": "cba18d4f-d5d9-4892-a711-a933bcee62c5",
   "metadata": {},
   "source": [
    "### 练习：银行系统"
   ]
  },
  {
   "cell_type": "code",
   "execution_count": 22,
   "id": "109ed642-e90f-4ced-92cb-48f3ada05ad8",
   "metadata": {},
   "outputs": [],
   "source": [
    "from datetime import datetime\n",
    "\n",
    "class Logger:\n",
    "    \"\"\"\n",
    "    日志记录类\n",
    "    \"\"\"\n",
    "    def __init__(self, filename: str):\n",
    "        self.filename = filename\n",
    "\n",
    "    def info(self, msg: str):\n",
    "        with open(self.filename, \"a+\") as f:\n",
    "            f.write(f\"{str(datetime.now())} | INFO: {msg}\\n\")\n",
    "\n",
    "    def warning(self, msg: str):\n",
    "        with open(self.filename, \"a+\") as f:\n",
    "            f.write(f\"{str(datetime.now())} | WARNING: {msg}\\n\")"
   ]
  },
  {
   "cell_type": "code",
   "execution_count": 34,
   "id": "2e67d2de-0d6e-4b1d-821c-a977e0498805",
   "metadata": {},
   "outputs": [],
   "source": [
    "class BankAccount:\n",
    "    def __init__(self, account_name, initial_balance=0, logger=None):\n",
    "        self.account_name = account_name\n",
    "        self.__balance = initial_balance\n",
    "        self.logger = logger # 传入日志对象\n",
    "\n",
    "    def deposit(self, amount):\n",
    "        # 未引入logger：\n",
    "        # if amount < 0:\n",
    "        #     raise ValueError(\"存款金额不能为负数\")\n",
    "        # self.__balance += amount\n",
    "        # print(f\"成功存入{amount}元，当前余额：{self.__balance}元\")\n",
    "\n",
    "        # 引入logger：\n",
    "        try:\n",
    "            if amount < 0:\n",
    "                raise ValueError(\"存款金额不能为负数\")\n",
    "            self.__balance += amount\n",
    "            if self.logger:\n",
    "                self.logger.info(f\"存款成功 - 账户：{self.account_name}，存入：{amount} 元，当前余额： {self.__balance}元\")\n",
    "                print(f\"成功存入{amount}元，当前余额：{self.__balance}元\")\n",
    "        except ValueError as e:\n",
    "            if self.logger:\n",
    "                self.logger.warning(f\"存款失败 - 账户：{self.account_name}，错误：{str(e)}\")\n",
    "                print(f\"错误：{str(e)}\")\n",
    "\n",
    "    def withdraw(self, amount):\n",
    "        # if amount < 0:\n",
    "        #     raise ValueError(\"取款金额不能为负数\")\n",
    "        # elif amount > self.__balance:\n",
    "        #     raise ValueError(\"余额不足，请检查金额\")\n",
    "        # else:\n",
    "        #     self.__balance -= amount\n",
    "        #     print(f\"成功取出{amount}元，当前余额：{self.__balance}元\")\n",
    "        try:\n",
    "            if amount < 0:\n",
    "                raise ValueError(\"取款金额不能为负数\")\n",
    "            elif amount > self.__balance:\n",
    "                raise ValueError(\"余额不足，请检查金额\")\n",
    "            else:\n",
    "                self.__balance -= amount\n",
    "                if self.logger:\n",
    "                    self.logger.info(f\"存款成功 - 账户：{self.account_name}，存入：{amount} 元，当前余额： {self.__balance}元\")\n",
    "                    print(f\"成功取出{amount}元，当前余额：{self.__balance}元\")\n",
    "        except ValueError as e:\n",
    "            if self.logger:\n",
    "                self.logger.warning(f\"取款失败 - 账户：{self.account_name}，错误：{str(e)}\")\n",
    "                print(f\"错误：{str(e)}\")\n",
    "\n",
    "    def get_balance(self):\n",
    "        return self.__balance"
   ]
  },
  {
   "cell_type": "code",
   "execution_count": 40,
   "id": "be3523f8-1084-4611-bb71-5a82b3aafd51",
   "metadata": {},
   "outputs": [
    {
     "name": "stdout",
     "output_type": "stream",
     "text": [
      "\n",
      "请选择操作：\n",
      "1. 存款\n",
      "2. 取款\n",
      "3. 查询余额\n",
      "4. 退出\n"
     ]
    },
    {
     "name": "stdin",
     "output_type": "stream",
     "text": [
      "请输入操作编号： 1\n",
      "请输入存款金额： 50\n"
     ]
    },
    {
     "name": "stdout",
     "output_type": "stream",
     "text": [
      "成功存入50.0元，当前余额：1050.0元\n",
      "\n",
      "请选择操作：\n",
      "1. 存款\n",
      "2. 取款\n",
      "3. 查询余额\n",
      "4. 退出\n"
     ]
    },
    {
     "name": "stdin",
     "output_type": "stream",
     "text": [
      "请输入操作编号： 2\n",
      "请输入取款金额： 2000\n"
     ]
    },
    {
     "name": "stdout",
     "output_type": "stream",
     "text": [
      "错误：余额不足，请检查金额\n",
      "\n",
      "请选择操作：\n",
      "1. 存款\n",
      "2. 取款\n",
      "3. 查询余额\n",
      "4. 退出\n"
     ]
    },
    {
     "name": "stdin",
     "output_type": "stream",
     "text": [
      "请输入操作编号： 3\n"
     ]
    },
    {
     "name": "stdout",
     "output_type": "stream",
     "text": [
      "当前余额为：1050.0 元\n",
      "\n",
      "请选择操作：\n",
      "1. 存款\n",
      "2. 取款\n",
      "3. 查询余额\n",
      "4. 退出\n"
     ]
    },
    {
     "name": "stdin",
     "output_type": "stream",
     "text": [
      "请输入操作编号： 4\n"
     ]
    },
    {
     "name": "stdout",
     "output_type": "stream",
     "text": [
      "退出系统\n"
     ]
    }
   ],
   "source": [
    "logger = Logger(\"Bank_log.txt\")\n",
    "account = BankAccount(\"Ming\", 1000, logger)\n",
    "\n",
    "while True:\n",
    "    print(\"\\n请选择操作：\")\n",
    "    print(\"1. 存款\")\n",
    "    print(\"2. 取款\")\n",
    "    print(\"3. 查询余额\")\n",
    "    print(\"4. 退出\")\n",
    "\n",
    "    choice = input(\"请输入操作编号：\")\n",
    "\n",
    "    try:\n",
    "        if choice == \"1\":\n",
    "            amount = float(input(\"请输入存款金额：\"))\n",
    "            account.deposit(amount)\n",
    "        elif choice == \"2\":\n",
    "            amount = float(input(\"请输入取款金额：\"))\n",
    "            account.withdraw(amount)\n",
    "        elif choice == \"3\":\n",
    "            print(f\"当前余额为：{account.get_balance()} 元\")\n",
    "        elif choice == \"4\":\n",
    "            print(\"退出系统\")\n",
    "            break\n",
    "        else:\n",
    "            print(\"无效的操作编号，请重新输入\")\n",
    "    except ValueError:\n",
    "            print(\"无效的输入，请输入有效的数字\")"
   ]
  },
  {
   "cell_type": "code",
   "execution_count": 28,
   "id": "4629ec6f-3522-487b-bc22-a450ed192d6e",
   "metadata": {},
   "outputs": [
    {
     "name": "stdout",
     "output_type": "stream",
     "text": [
      "错误：存款金额不能为负数\n"
     ]
    }
   ],
   "source": [
    "account.deposit(-50)"
   ]
  },
  {
   "cell_type": "code",
   "execution_count": 30,
   "id": "93884c3b-cabc-4642-9a0e-bd3ade28af80",
   "metadata": {},
   "outputs": [
    {
     "name": "stdout",
     "output_type": "stream",
     "text": [
      "成功存入50元，当前余额：1050元\n"
     ]
    }
   ],
   "source": [
    "account.deposit(50)"
   ]
  },
  {
   "cell_type": "code",
   "execution_count": 14,
   "id": "66d57440-686b-46e3-80a7-e3305bec3573",
   "metadata": {},
   "outputs": [
    {
     "ename": "ValueError",
     "evalue": "取款金额不能为负数",
     "output_type": "error",
     "traceback": [
      "\u001b[1;31m---------------------------------------------------------------------------\u001b[0m",
      "\u001b[1;31mValueError\u001b[0m                                Traceback (most recent call last)",
      "Cell \u001b[1;32mIn[14], line 1\u001b[0m\n\u001b[1;32m----> 1\u001b[0m account\u001b[38;5;241m.\u001b[39mwithdraw(\u001b[38;5;241m-\u001b[39m\u001b[38;5;241m50\u001b[39m)\n",
      "Cell \u001b[1;32mIn[10], line 14\u001b[0m, in \u001b[0;36mBankAccount.withdraw\u001b[1;34m(self, amount)\u001b[0m\n\u001b[0;32m     12\u001b[0m \u001b[38;5;28;01mdef\u001b[39;00m \u001b[38;5;21mwithdraw\u001b[39m(\u001b[38;5;28mself\u001b[39m, amount):\n\u001b[0;32m     13\u001b[0m     \u001b[38;5;28;01mif\u001b[39;00m amount \u001b[38;5;241m<\u001b[39m \u001b[38;5;241m0\u001b[39m:\n\u001b[1;32m---> 14\u001b[0m         \u001b[38;5;28;01mraise\u001b[39;00m \u001b[38;5;167;01mValueError\u001b[39;00m(\u001b[38;5;124m\"\u001b[39m\u001b[38;5;124m取款金额不能为负数\u001b[39m\u001b[38;5;124m\"\u001b[39m)\n\u001b[0;32m     15\u001b[0m     \u001b[38;5;28;01melif\u001b[39;00m amount \u001b[38;5;241m>\u001b[39m \u001b[38;5;28mself\u001b[39m\u001b[38;5;241m.\u001b[39m__balance:\n\u001b[0;32m     16\u001b[0m         \u001b[38;5;28;01mraise\u001b[39;00m \u001b[38;5;167;01mValueError\u001b[39;00m(\u001b[38;5;124m\"\u001b[39m\u001b[38;5;124m余额不足，请检查金额\u001b[39m\u001b[38;5;124m\"\u001b[39m)\n",
      "\u001b[1;31mValueError\u001b[0m: 取款金额不能为负数"
     ]
    }
   ],
   "source": [
    "account.withdraw(-50)"
   ]
  },
  {
   "cell_type": "code",
   "execution_count": 16,
   "id": "30d743fc-6e86-4109-a68e-a4d011fbe02f",
   "metadata": {},
   "outputs": [
    {
     "ename": "ValueError",
     "evalue": "余额不足，请检查金额",
     "output_type": "error",
     "traceback": [
      "\u001b[1;31m---------------------------------------------------------------------------\u001b[0m",
      "\u001b[1;31mValueError\u001b[0m                                Traceback (most recent call last)",
      "Cell \u001b[1;32mIn[16], line 1\u001b[0m\n\u001b[1;32m----> 1\u001b[0m account\u001b[38;5;241m.\u001b[39mwithdraw(\u001b[38;5;241m2000\u001b[39m)\n",
      "Cell \u001b[1;32mIn[10], line 16\u001b[0m, in \u001b[0;36mBankAccount.withdraw\u001b[1;34m(self, amount)\u001b[0m\n\u001b[0;32m     14\u001b[0m     \u001b[38;5;28;01mraise\u001b[39;00m \u001b[38;5;167;01mValueError\u001b[39;00m(\u001b[38;5;124m\"\u001b[39m\u001b[38;5;124m取款金额不能为负数\u001b[39m\u001b[38;5;124m\"\u001b[39m)\n\u001b[0;32m     15\u001b[0m \u001b[38;5;28;01melif\u001b[39;00m amount \u001b[38;5;241m>\u001b[39m \u001b[38;5;28mself\u001b[39m\u001b[38;5;241m.\u001b[39m__balance:\n\u001b[1;32m---> 16\u001b[0m     \u001b[38;5;28;01mraise\u001b[39;00m \u001b[38;5;167;01mValueError\u001b[39;00m(\u001b[38;5;124m\"\u001b[39m\u001b[38;5;124m余额不足，请检查金额\u001b[39m\u001b[38;5;124m\"\u001b[39m)\n\u001b[0;32m     17\u001b[0m \u001b[38;5;28;01melse\u001b[39;00m:\n\u001b[0;32m     18\u001b[0m     \u001b[38;5;28mself\u001b[39m\u001b[38;5;241m.\u001b[39m__balance \u001b[38;5;241m-\u001b[39m\u001b[38;5;241m=\u001b[39m amount\n",
      "\u001b[1;31mValueError\u001b[0m: 余额不足，请检查金额"
     ]
    }
   ],
   "source": [
    "account.withdraw(2000)"
   ]
  },
  {
   "cell_type": "code",
   "execution_count": 18,
   "id": "fe64cacd-d8a5-478a-bd62-276470b39520",
   "metadata": {},
   "outputs": [
    {
     "name": "stdout",
     "output_type": "stream",
     "text": [
      "成功取出500元，当前余额：500元\n"
     ]
    }
   ],
   "source": [
    "account.withdraw(500)"
   ]
  },
  {
   "cell_type": "markdown",
   "id": "5f2ee8c9-0473-4ad2-84c6-9a328c8ac59f",
   "metadata": {},
   "source": [
    "### 练习：统计文件单词频率\n",
    "\n",
    "**text.translate(str.maketrans('', '', string.punctuation))** 用于移除字符串中的标点符号\n",
    "- string.punctuation 是python标准库的常量，它包含了所有常见的标点符号\n",
    "- str.maketrans() 是用于创建转换映射表的静态方法 -> 创建一个映射，将字符转换为指定的字符\n",
    "    - 1. str.maketrans(from, to) 将from字符串中的字符替换为to字符串中的字符\n",
    "      2. str.maketrans(from, to, delete) 除了替换字符之外，还可以指定一个delete字符串，表示要删除的字符\n",
    "      3. str.maketrans('', '', string.punctuation) 返回一个映射表，告诉python在文本中遇到任何标点符号时，将其删除"
   ]
  },
  {
   "cell_type": "code",
   "execution_count": 49,
   "id": "78a99899-3d4e-4ae8-a086-5f8ad462cd41",
   "metadata": {},
   "outputs": [
    {
     "name": "stdout",
     "output_type": "stream",
     "text": [
      "{'i': 1, 'love': 1, 'python': 2, 'is': 1, 'very': 1, 'fun': 1}\n"
     ]
    }
   ],
   "source": [
    "def count_words():\n",
    "    with open(\"example.txt\", \"r\") as file:\n",
    "        text = file.read()\n",
    "\n",
    "    text = text.lower()\n",
    "    text = text.translate(str.maketrans('', '', string.punctuation)) # 去除标点符号\n",
    "\n",
    "    words = text.split()\n",
    "    word_count = {}\n",
    "\n",
    "    for word in words:\n",
    "        if word in word_count:\n",
    "            word_count[word] += 1\n",
    "        else:\n",
    "             word_count[word] = 1\n",
    "\n",
    "    print(word_count)\n",
    "\n",
    "    with open(\"word_count.txt\", \"w\") as f:\n",
    "        for word, count in word_count.items():\n",
    "            f.write(f\"{word}: {count}\\n\")\n",
    "\n",
    "count_words()"
   ]
  },
  {
   "cell_type": "code",
   "execution_count": 44,
   "id": "3c32abb0-b755-443a-8a76-ca34f691cdf2",
   "metadata": {},
   "outputs": [
    {
     "name": "stdout",
     "output_type": "stream",
     "text": [
      "!\"#$%&'()*+,-./:;<=>?@[\\]^_`{|}~\n"
     ]
    }
   ],
   "source": [
    "import string\n",
    "\n",
    "print(string.punctuation)"
   ]
  },
  {
   "cell_type": "markdown",
   "id": "ab2a0719-70a8-4089-8e17-93face6c9b47",
   "metadata": {},
   "source": [
    "### 练习：多行文本插入"
   ]
  },
  {
   "cell_type": "code",
   "execution_count": 58,
   "id": "bc518dcf-6a96-4ef8-abc6-89dfefd7543b",
   "metadata": {},
   "outputs": [
    {
     "name": "stdout",
     "output_type": "stream",
     "text": [
      "文件修改完成！\n"
     ]
    }
   ],
   "source": [
    "with open(\"example_2.txt\", \"r\", encoding=\"utf-8\") as file:\n",
    "    lines = file.readlines()\n",
    "\n",
    "if len(lines) >= 3:\n",
    "    lines[2] = \"这是新的第三行内容\\n\"\n",
    "\n",
    "while len(lines) < 6:\n",
    "    lines.append(\"\\n\")\n",
    "lines[5] = \"这是第六行的内容\\n\"\n",
    "\n",
    "with open(\"example_2.txt\", \"w\", encoding=\"utf-8\") as file:\n",
    "    file.writelines(lines)\n",
    "\n",
    "print(\"文件修改完成！\")"
   ]
  },
  {
   "cell_type": "markdown",
   "id": "d1f01f63-16ba-41ea-98d2-17d8ed9335cf",
   "metadata": {},
   "source": [
    "**tell()**\n",
    "- file.tell()返回当前文件指针的位置（字节数）\n",
    "- 读取或写入后，可以用tell()来查看当前指针位置\n",
    "\n",
    "**seek(offset, whence)**\n",
    "- seek(0, 0) 将指针移动到文件开头\n",
    "- seek(0, 2) 将指针移动到文件的末尾\n",
    "- seek(n, 0) 让指针移动到文件的第n个字符\n",
    "\n",
    "**truncate()**\n",
    "- file.truncate()用于裁剪文件，确保旧内容不会遗留"
   ]
  },
  {
   "cell_type": "code",
   "execution_count": 66,
   "id": "e18af848-2c96-4e0a-9ebf-6f00b94c7dfd",
   "metadata": {},
   "outputs": [
    {
     "name": "stdout",
     "output_type": "stream",
     "text": [
      "指针的初始位置：0\n",
      "写入后指针的位置：123\n"
     ]
    }
   ],
   "source": [
    "with open(\"example_2.txt\", \"r+\", encoding=\"utf-8\") as file:\n",
    "    print(f\"指针的初始位置：{file.tell()}\")\n",
    "\n",
    "    lines = file.readlines()\n",
    "\n",
    "    if len(lines) >= 3:\n",
    "        lines[2] = \"这是新的第三行内容\\n\"\n",
    "\n",
    "    while len(lines) < 6:\n",
    "        lines.append(\"\\n\")\n",
    "    \n",
    "    lines[5] = \"这是第六行的内容\\n\"\n",
    "\n",
    "    file.seek(0)\n",
    "    file.writelines(lines)\n",
    "\n",
    "    print(f\"写入后指针的位置：{file.tell()}\")\n",
    "\n",
    "    file.truncate()"
   ]
  },
  {
   "cell_type": "markdown",
   "id": "5607f9e8-1f87-4486-81e4-7d2f745b99f9",
   "metadata": {},
   "source": [
    "### 异常处理练习 -> 结合try-except-else-finally，并使用assert\n",
    "\n",
    "**要求**\n",
    "1. 用户输入两个数字，然后计算它们的除法运算\n",
    "2. 程序需要检查：1. 用户输入的是否是数字，2. 除数不能为0，3. 如果有遇到问题（比如输入错误或除数为0），程序需要捕获错误并提示用户，不中断程序\n",
    "\n",
    "> 我们使用try-except来处理异常，else用于没有异常的情况，finally输出一句“程序结束，感谢使用”，assert用于确保除数不为0 -> 抛出assert异常，编写错误信息为：错误，除数不能为0！"
   ]
  },
  {
   "cell_type": "code",
   "execution_count": 74,
   "id": "ee5d4d63-832a-4e83-9ac6-13dfd38832d6",
   "metadata": {},
   "outputs": [],
   "source": [
    "def divide_number():\n",
    "    while True:\n",
    "        try:\n",
    "            number_1 = float(input(\"请输入被除数：\"))\n",
    "            number_2 = float(input(\"请输入除数：\"))\n",
    "    \n",
    "            assert number_2 != 0, \"错误，除数不能为0！\"\n",
    "    \n",
    "        except ValueError:\n",
    "            print(\"错误，输入无效，必须为数字\")\n",
    "            continue\n",
    "        except AssertionError as e:\n",
    "            print(e)\n",
    "            continue\n",
    "        else:\n",
    "            result = number_1 / number_2\n",
    "            print(f\"结果为：{result}\")\n",
    "            break\n",
    "        finally:\n",
    "            print(\"程序结束，感谢使用w\")"
   ]
  },
  {
   "cell_type": "code",
   "execution_count": 76,
   "id": "8348d181-9679-411c-b843-b8e9a172dad9",
   "metadata": {},
   "outputs": [
    {
     "name": "stdin",
     "output_type": "stream",
     "text": [
      "请输入被除数： 40\n",
      "请输入除数： 0\n"
     ]
    },
    {
     "name": "stdout",
     "output_type": "stream",
     "text": [
      "错误，除数不能为0！\n",
      "程序结束，感谢使用w\n"
     ]
    }
   ],
   "source": [
    "divide_number()"
   ]
  },
  {
   "cell_type": "code",
   "execution_count": 78,
   "id": "05a7fe57-2e38-45eb-9513-31a8e380ad13",
   "metadata": {},
   "outputs": [
    {
     "name": "stdin",
     "output_type": "stream",
     "text": [
      "请输入被除数： 5\n",
      "请输入除数： adc\n"
     ]
    },
    {
     "name": "stdout",
     "output_type": "stream",
     "text": [
      "错误，输入无效，必须为数字\n",
      "程序结束，感谢使用w\n"
     ]
    }
   ],
   "source": [
    "divide_number()"
   ]
  },
  {
   "cell_type": "code",
   "execution_count": 80,
   "id": "9fa4d15d-d312-4042-9070-db5069578521",
   "metadata": {},
   "outputs": [
    {
     "name": "stdin",
     "output_type": "stream",
     "text": [
      "请输入被除数： 5\n",
      "请输入除数： 10\n"
     ]
    },
    {
     "name": "stdout",
     "output_type": "stream",
     "text": [
      "结果为：0.5\n",
      "程序结束，感谢使用w\n"
     ]
    }
   ],
   "source": [
    "divide_number()"
   ]
  },
  {
   "cell_type": "markdown",
   "id": "d1226f36-9235-437d-bc63-12de1147ec1c",
   "metadata": {},
   "source": [
    "## 模块\n",
    "\n",
    "> 一个模块（module）包含一个完整程序的所有元素 -> 模块具有独立性和封装性\n",
    ">\n",
    "**模块是python程序的基本单位，通过import关键字，从其他模块中导入类/函数/属性/变量...，并将他们作为本模块的一部分来使用**\n",
    "\n",
    "1. **import module_name** -> import math\n",
    "    - 用于导入整个模块，导入后，我们需要通过模块名称来访问其中的函数/类/变量等成员\n",
    "    - 特点：\n",
    "      - 1. 导入整个模块后，必须使用模块名来访问其中的函数或变量\n",
    "      - 2. 模块中的所有内容都会被加载到当前程序中，只有通过模块名来访问\n",
    "2. **from module_name import func, var** -> from my_module import say_greeting\n",
    "    - 直接从模块中导入特定的函数/类/或变量，这样导入后，我们可以直接使用这些导入的成员，而不再需要模块名来访问\n",
    "        - 1. 只导入模块的某些特定内容，可以直接使用这些成员，不再需要模块名\n",
    "          2. 如果只需要模块的一部分内容，减少内存的使用\n",
    "          3. 可以避免名称冲突，因为导入时直接指定要导入的成员"
   ]
  },
  {
   "cell_type": "code",
   "execution_count": 89,
   "id": "811ee14d-c56b-4971-af0c-654806dcfb4c",
   "metadata": {},
   "outputs": [
    {
     "name": "stdout",
     "output_type": "stream",
     "text": [
      "My greeting is Hello, World!\n"
     ]
    }
   ],
   "source": [
    "from my_module import say_greeting\n",
    "\n",
    "say_greeting()"
   ]
  },
  {
   "cell_type": "code",
   "execution_count": 114,
   "id": "e3a81fcc-7c50-45b8-8db9-a189979ab9d0",
   "metadata": {},
   "outputs": [
    {
     "name": "stdout",
     "output_type": "stream",
     "text": [
      "My greeting is Hello, World!\n"
     ]
    }
   ],
   "source": [
    "import my_module\n",
    "\n",
    "my_module.say_greeting()"
   ]
  },
  {
   "cell_type": "code",
   "execution_count": 5,
   "id": "5517ff9f-e913-4c6f-bb2b-2360bac58d7a",
   "metadata": {},
   "outputs": [
    {
     "data": {
      "text/plain": [
       "3.14159"
      ]
     },
     "execution_count": 5,
     "metadata": {},
     "output_type": "execute_result"
    }
   ],
   "source": [
    "my_module.PI"
   ]
  },
  {
   "cell_type": "code",
   "execution_count": 2,
   "id": "7a52cc9a-139a-4677-8d8b-8c01776ca0d4",
   "metadata": {},
   "outputs": [
    {
     "name": "stdout",
     "output_type": "stream",
     "text": [
      "5\n"
     ]
    }
   ],
   "source": [
    "import my_module\n",
    "\n",
    "result = my_module.add(2, 3)\n",
    "print(result)\n",
    "\n",
    "print(my_module.PI)"
   ]
  },
  {
   "cell_type": "code",
   "execution_count": 2,
   "id": "9b56fcfe-53fc-40ac-bb96-3f569e5bff84",
   "metadata": {},
   "outputs": [
    {
     "name": "stdout",
     "output_type": "stream",
     "text": [
      "5\n",
      "3.14159\n"
     ]
    }
   ],
   "source": [
    "from my_module import add, PI\n",
    "\n",
    "result = add(2, 3)\n",
    "print(result)\n",
    "\n",
    "print(PI)"
   ]
  },
  {
   "cell_type": "code",
   "execution_count": 4,
   "id": "5f22b710-e184-4fc7-a316-4448769f1191",
   "metadata": {},
   "outputs": [
    {
     "name": "stdout",
     "output_type": "stream",
     "text": [
      "This is a message from MyClass.\n"
     ]
    }
   ],
   "source": [
    "from my_module import MyClass\n",
    "\n",
    "newclass = MyClass()\n",
    "newclass.show_message()"
   ]
  },
  {
   "cell_type": "markdown",
   "id": "35417147-0f3f-45e6-aacb-098d525fc6ae",
   "metadata": {},
   "source": [
    "### 标准库和第三方库\n",
    "> 两者的区别是来源/使用方式/维护方式等方面\n",
    ">\n",
    "**标准库**\n",
    "> python自带的库，包含了需要常用的模块和包，用来提供各种功能，比如文件操作/数字运算/日期处理/网络通信等等...标准库是python安装包的一部分，安装python时会自动包含这些包\n",
    ">\n",
    "特点：\n",
    "1. 跟python安装包一起安装\n",
    "2. python官方维护\n",
    "3. 广泛应用\n",
    "\n",
    "常见的便准库模块包括：\n",
    "- math：提供数学函数和常量\n",
    "- os: 提供了与操作系统交互的功能，比如文件操作/环境变量等\n",
    "- datetime：处理日期和时间\n",
    "- sys：提供了与python解释器和系统交互的功能\n",
    "- json：用于JSON数据的解析和生产\n",
    "- re：提供正则表达式的功能"
   ]
  },
  {
   "cell_type": "markdown",
   "id": "cee29721-e268-40e8-b436-17ac1d1cbd65",
   "metadata": {},
   "source": [
    "#### OS库进行文件和目录操作\n",
    "1. 创建一个新目录\n",
    "2. 列出当前目录中所有的文件和子目录\n",
    "3. 创建一个新文件并写入内容\n",
    "4. 读取文件内容\n",
    "5. 删除文件\n",
    "6. 删除目录"
   ]
  },
  {
   "cell_type": "code",
   "execution_count": 11,
   "id": "249ebea4-bc4a-4bf6-b43a-1a3d1302a6a9",
   "metadata": {},
   "outputs": [
    {
     "name": "stdout",
     "output_type": "stream",
     "text": [
      "目录‘example_directory’创建成功！\n"
     ]
    }
   ],
   "source": [
    "import os\n",
    "\n",
    "# 1. 创建新目录\n",
    "new_dir = \"example_directory\"\n",
    "if not os.path.exists(new_dir):\n",
    "    os.mkdir(new_dir)\n",
    "    print(f\"目录‘{new_dir}’创建成功！\")\n",
    "else:\n",
    "    print(f\"目录‘{new_dir}’已存在\")"
   ]
  },
  {
   "cell_type": "code",
   "execution_count": 15,
   "id": "33145b78-02ad-4730-82b3-6202b1c5e6e0",
   "metadata": {},
   "outputs": [
    {
     "name": "stdout",
     "output_type": "stream",
     "text": [
      "当前目录中的文件和子目录：\n",
      ".ipynb_checkpoints\n",
      "Bank_log.txt\n",
      "example.txt\n",
      "example_2.txt\n",
      "example_directory\n",
      "Lecture 8.ipynb\n",
      "my_module.py\n",
      "word_count.txt\n",
      "__pycache__\n"
     ]
    }
   ],
   "source": [
    "# 2. 列出当前目录中所有的文件和子目录\n",
    "print(\"当前目录中的文件和子目录：\")\n",
    "for item in os.listdir('.'): # 表示当前目录\n",
    "    print(item)"
   ]
  },
  {
   "cell_type": "code",
   "execution_count": 19,
   "id": "0d8b7c9a-845f-48df-a7c7-7b662fea9e77",
   "metadata": {},
   "outputs": [
    {
     "name": "stdout",
     "output_type": "stream",
     "text": [
      "文件 'example_directory\\example_file.txt'创建并写入成功！\n"
     ]
    }
   ],
   "source": [
    "# 3. 创建一个新文件并写入内容\n",
    "filename = os.path.join(new_dir, \"example_file.txt\")\n",
    "with open(filename, \"w\") as f:\n",
    "    f.write(\"这是一个示例文件。\\n欢迎学习python标准库os！\")\n",
    "\n",
    "print(f\"文件 '{filename}'创建并写入成功！\")"
   ]
  },
  {
   "cell_type": "code",
   "execution_count": 23,
   "id": "3e8db6d0-396d-4a39-bb24-295af51e8d3c",
   "metadata": {},
   "outputs": [
    {
     "name": "stdout",
     "output_type": "stream",
     "text": [
      "文件 'example_directory\\example_file.txt'已删除！\n"
     ]
    }
   ],
   "source": [
    "# 5. 删除文件\n",
    "os.remove(filename)\n",
    "print(f\"文件 '{filename}'已删除！\")"
   ]
  },
  {
   "cell_type": "code",
   "execution_count": 25,
   "id": "b1fe84d4-9f9f-4392-add7-8d4a8c7508b6",
   "metadata": {},
   "outputs": [
    {
     "name": "stdout",
     "output_type": "stream",
     "text": [
      "目录 'example_directory'已删除！\n"
     ]
    }
   ],
   "source": [
    "# 6. 删除目录\n",
    "os.rmdir(new_dir)\n",
    "print(f\"目录 '{new_dir}'已删除！\")"
   ]
  },
  {
   "cell_type": "markdown",
   "id": "12f374a2-1581-4e70-afaa-fe609c2c882a",
   "metadata": {},
   "source": [
    "**第三方库**\n",
    "> python社区或者其他开发者开发并发布的库，通常不包含在python标准库中，需要通过工具（pip）安装\n",
    ">\n",
    "特点：\n",
    "1. 需要手动安装\n",
    "2. 社区或公司开发\n",
    "3. 功能丰富且灵活\n",
    "\n",
    "常用的第三方库：\n",
    "- Numpy：用于科学计算和数组的操作\n",
    "- Pandas：用于数据分析和数据处理\n",
    "- Django: 用于Web应用的框架\n",
    "- Flask：轻量级的web框架\n",
    "- Requests：用于HTTP请求\n",
    "- Matplotlib：用于绘制和数据可视化\n",
    "\n",
    "*安装第三方库*\n",
    "1. 使用pip安装\n",
    "2. 使用conda安装\n",
    "3. 使用pip来安装Github上的库\n",
    "4. 使用pipenv安装 -> 管理虚拟环境\n",
    "5. 使用poetry安装"
   ]
  },
  {
   "cell_type": "markdown",
   "id": "71ab3c90-e904-4578-a5b9-28860036a938",
   "metadata": {},
   "source": [
    "### 包（Package）\n",
    "> 按目录来组织模块的方法称为包\n",
    ">\n",
    "**什么是包？**\n",
    "一个包含多个模块(.py文件)的目录。包可以嵌套，形成层级结构。每个包目录都需要包含一个__init__.py文件，来告诉python，这个目录是一个包。其中__init__.py文件通常是空的，但它可以包含包的初始化代码。"
   ]
  },
  {
   "cell_type": "markdown",
   "id": "3f680499-e90d-4578-bd29-089a24a472c7",
   "metadata": {},
   "source": [
    "## Pandas"
   ]
  },
  {
   "cell_type": "markdown",
   "id": "6c9313c4-ab8e-4dd5-b20b-064cd2bfe844",
   "metadata": {},
   "source": [
    "#### 1. 创建和查看DataFrame"
   ]
  },
  {
   "cell_type": "code",
   "execution_count": 49,
   "id": "0657ab9c-fd09-439b-ba31-0f14fca18ede",
   "metadata": {},
   "outputs": [
    {
     "data": {
      "text/html": [
       "<div>\n",
       "<style scoped>\n",
       "    .dataframe tbody tr th:only-of-type {\n",
       "        vertical-align: middle;\n",
       "    }\n",
       "\n",
       "    .dataframe tbody tr th {\n",
       "        vertical-align: top;\n",
       "    }\n",
       "\n",
       "    .dataframe thead th {\n",
       "        text-align: right;\n",
       "    }\n",
       "</style>\n",
       "<table border=\"1\" class=\"dataframe\">\n",
       "  <thead>\n",
       "    <tr style=\"text-align: right;\">\n",
       "      <th></th>\n",
       "      <th>Name</th>\n",
       "      <th>Age</th>\n",
       "      <th>Gender</th>\n",
       "      <th>Score</th>\n",
       "    </tr>\n",
       "  </thead>\n",
       "  <tbody>\n",
       "    <tr>\n",
       "      <th>0</th>\n",
       "      <td>Alice</td>\n",
       "      <td>12</td>\n",
       "      <td>F</td>\n",
       "      <td>67</td>\n",
       "    </tr>\n",
       "    <tr>\n",
       "      <th>1</th>\n",
       "      <td>Bob</td>\n",
       "      <td>11</td>\n",
       "      <td>M</td>\n",
       "      <td>77</td>\n",
       "    </tr>\n",
       "    <tr>\n",
       "      <th>2</th>\n",
       "      <td>Katy</td>\n",
       "      <td>10</td>\n",
       "      <td>F</td>\n",
       "      <td>45</td>\n",
       "    </tr>\n",
       "    <tr>\n",
       "      <th>3</th>\n",
       "      <td>Sam</td>\n",
       "      <td>12</td>\n",
       "      <td>M</td>\n",
       "      <td>30</td>\n",
       "    </tr>\n",
       "  </tbody>\n",
       "</table>\n",
       "</div>"
      ],
      "text/plain": [
       "    Name  Age Gender  Score\n",
       "0  Alice   12      F     67\n",
       "1    Bob   11      M     77\n",
       "2   Katy   10      F     45\n",
       "3    Sam   12      M     30"
      ]
     },
     "execution_count": 49,
     "metadata": {},
     "output_type": "execute_result"
    }
   ],
   "source": [
    "import pandas as pd\n",
    "\n",
    "# 创建DataFrame\n",
    "data = {\"Name\": [\"Alice\", \"Bob\", \"Katy\", \"Sam\"], \n",
    "       \"Age\": [12, 11, 10, 12],\n",
    "       \"Gender\": [\"F\", \"M\", \"F\", \"M\"],\n",
    "       \"Score\": [67, 77, 45, 30]}\n",
    "\n",
    "df = pd.DataFrame(data)\n",
    "df"
   ]
  },
  {
   "cell_type": "code",
   "execution_count": 39,
   "id": "4622d969-33b5-4933-b512-514cfbe43957",
   "metadata": {},
   "outputs": [
    {
     "data": {
      "text/plain": [
       "pandas.core.frame.DataFrame"
      ]
     },
     "execution_count": 39,
     "metadata": {},
     "output_type": "execute_result"
    }
   ],
   "source": [
    "type(df)"
   ]
  },
  {
   "cell_type": "code",
   "execution_count": 41,
   "id": "8bdcc9bc-9545-465d-8108-ef2a8c7aaa3f",
   "metadata": {},
   "outputs": [
    {
     "data": {
      "text/html": [
       "<div>\n",
       "<style scoped>\n",
       "    .dataframe tbody tr th:only-of-type {\n",
       "        vertical-align: middle;\n",
       "    }\n",
       "\n",
       "    .dataframe tbody tr th {\n",
       "        vertical-align: top;\n",
       "    }\n",
       "\n",
       "    .dataframe thead th {\n",
       "        text-align: right;\n",
       "    }\n",
       "</style>\n",
       "<table border=\"1\" class=\"dataframe\">\n",
       "  <thead>\n",
       "    <tr style=\"text-align: right;\">\n",
       "      <th></th>\n",
       "      <th>Name</th>\n",
       "      <th>Age</th>\n",
       "      <th>Gender</th>\n",
       "      <th>Score</th>\n",
       "    </tr>\n",
       "  </thead>\n",
       "  <tbody>\n",
       "    <tr>\n",
       "      <th>0</th>\n",
       "      <td>Alice</td>\n",
       "      <td>12</td>\n",
       "      <td>F</td>\n",
       "      <td>67</td>\n",
       "    </tr>\n",
       "    <tr>\n",
       "      <th>1</th>\n",
       "      <td>Bob</td>\n",
       "      <td>11</td>\n",
       "      <td>M</td>\n",
       "      <td>77</td>\n",
       "    </tr>\n",
       "  </tbody>\n",
       "</table>\n",
       "</div>"
      ],
      "text/plain": [
       "    Name  Age Gender  Score\n",
       "0  Alice   12      F     67\n",
       "1    Bob   11      M     77"
      ]
     },
     "execution_count": 41,
     "metadata": {},
     "output_type": "execute_result"
    }
   ],
   "source": [
    "df.head(2)"
   ]
  },
  {
   "cell_type": "code",
   "execution_count": 43,
   "id": "fd43ba74-ee80-4abc-bffa-b74d030efe0f",
   "metadata": {},
   "outputs": [
    {
     "data": {
      "text/html": [
       "<div>\n",
       "<style scoped>\n",
       "    .dataframe tbody tr th:only-of-type {\n",
       "        vertical-align: middle;\n",
       "    }\n",
       "\n",
       "    .dataframe tbody tr th {\n",
       "        vertical-align: top;\n",
       "    }\n",
       "\n",
       "    .dataframe thead th {\n",
       "        text-align: right;\n",
       "    }\n",
       "</style>\n",
       "<table border=\"1\" class=\"dataframe\">\n",
       "  <thead>\n",
       "    <tr style=\"text-align: right;\">\n",
       "      <th></th>\n",
       "      <th>Name</th>\n",
       "      <th>Age</th>\n",
       "      <th>Gender</th>\n",
       "      <th>Score</th>\n",
       "    </tr>\n",
       "  </thead>\n",
       "  <tbody>\n",
       "    <tr>\n",
       "      <th>2</th>\n",
       "      <td>Katy</td>\n",
       "      <td>10</td>\n",
       "      <td>F</td>\n",
       "      <td>45</td>\n",
       "    </tr>\n",
       "    <tr>\n",
       "      <th>3</th>\n",
       "      <td>Sam</td>\n",
       "      <td>12</td>\n",
       "      <td>M</td>\n",
       "      <td>30</td>\n",
       "    </tr>\n",
       "  </tbody>\n",
       "</table>\n",
       "</div>"
      ],
      "text/plain": [
       "   Name  Age Gender  Score\n",
       "2  Katy   10      F     45\n",
       "3   Sam   12      M     30"
      ]
     },
     "execution_count": 43,
     "metadata": {},
     "output_type": "execute_result"
    }
   ],
   "source": [
    "df.tail(2)"
   ]
  },
  {
   "cell_type": "code",
   "execution_count": 51,
   "id": "40293ad9-3da3-4c20-bbd7-e5d58ec736e0",
   "metadata": {},
   "outputs": [
    {
     "data": {
      "text/plain": [
       "Name      Katy\n",
       "Age         10\n",
       "Gender       F\n",
       "Score       45\n",
       "Name: 2, dtype: object"
      ]
     },
     "execution_count": 51,
     "metadata": {},
     "output_type": "execute_result"
    }
   ],
   "source": [
    "# 指定索引\n",
    "df.loc[2]"
   ]
  },
  {
   "cell_type": "code",
   "execution_count": 57,
   "id": "510ec4d5-1115-4540-8918-831abd8045d6",
   "metadata": {},
   "outputs": [
    {
     "data": {
      "text/plain": [
       "Name      Katy\n",
       "Age         10\n",
       "Gender       F\n",
       "Score       45\n",
       "Name: 2, dtype: object"
      ]
     },
     "execution_count": 57,
     "metadata": {},
     "output_type": "execute_result"
    }
   ],
   "source": [
    "df.iloc[2]"
   ]
  },
  {
   "cell_type": "code",
   "execution_count": 47,
   "id": "9ca40b68-216c-4abf-b215-83b37eaa2eb4",
   "metadata": {},
   "outputs": [
    {
     "data": {
      "text/html": [
       "<div>\n",
       "<style scoped>\n",
       "    .dataframe tbody tr th:only-of-type {\n",
       "        vertical-align: middle;\n",
       "    }\n",
       "\n",
       "    .dataframe tbody tr th {\n",
       "        vertical-align: top;\n",
       "    }\n",
       "\n",
       "    .dataframe thead th {\n",
       "        text-align: right;\n",
       "    }\n",
       "</style>\n",
       "<table border=\"1\" class=\"dataframe\">\n",
       "  <thead>\n",
       "    <tr style=\"text-align: right;\">\n",
       "      <th></th>\n",
       "      <th>Site</th>\n",
       "      <th>Age</th>\n",
       "    </tr>\n",
       "  </thead>\n",
       "  <tbody>\n",
       "    <tr>\n",
       "      <th>0</th>\n",
       "      <td>Google</td>\n",
       "      <td>10.0</td>\n",
       "    </tr>\n",
       "    <tr>\n",
       "      <th>1</th>\n",
       "      <td>Runoob</td>\n",
       "      <td>12.0</td>\n",
       "    </tr>\n",
       "    <tr>\n",
       "      <th>2</th>\n",
       "      <td>Wiki</td>\n",
       "      <td>13.0</td>\n",
       "    </tr>\n",
       "  </tbody>\n",
       "</table>\n",
       "</div>"
      ],
      "text/plain": [
       "     Site   Age\n",
       "0  Google  10.0\n",
       "1  Runoob  12.0\n",
       "2    Wiki  13.0"
      ]
     },
     "execution_count": 47,
     "metadata": {},
     "output_type": "execute_result"
    }
   ],
   "source": [
    "data = [['Google', 10], ['Runoob', 12], ['Wiki', 13]]\n",
    "\n",
    "# 创建DataFrame\n",
    "df = pd.DataFrame(data, columns=['Site', 'Age'])\n",
    "\n",
    "# 使用astype方法设置每列的数据类型\n",
    "df['Site'] = df['Site'].astype(str)\n",
    "df['Age'] = df['Age'].astype(float)\n",
    "\n",
    "df"
   ]
  },
  {
   "cell_type": "code",
   "execution_count": null,
   "id": "8787e5ab-6901-4c32-a608-dd317c363595",
   "metadata": {},
   "outputs": [],
   "source": []
  }
 ],
 "metadata": {
  "kernelspec": {
   "display_name": "Python [conda env:base] *",
   "language": "python",
   "name": "conda-base-py"
  },
  "language_info": {
   "codemirror_mode": {
    "name": "ipython",
    "version": 3
   },
   "file_extension": ".py",
   "mimetype": "text/x-python",
   "name": "python",
   "nbconvert_exporter": "python",
   "pygments_lexer": "ipython3",
   "version": "3.12.7"
  }
 },
 "nbformat": 4,
 "nbformat_minor": 5
}
