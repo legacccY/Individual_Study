{
 "cells": [
  {
   "cell_type": "code",
   "execution_count": 2,
   "id": "8356f629-46e4-4e78-a035-ad9fe4d89925",
   "metadata": {},
   "outputs": [
    {
     "data": {
      "text/plain": [
       "'Hello World!'"
      ]
     },
     "execution_count": 2,
     "metadata": {},
     "output_type": "execute_result"
    }
   ],
   "source": [
    "file = open('example.txt', 'r')\n",
    "msg = file.read()\n",
    "msg"
   ]
  },
  {
   "cell_type": "code",
   "execution_count": 3,
   "id": "8619346e-1445-4077-9634-9d2b63bddadd",
   "metadata": {},
   "outputs": [
    {
     "data": {
      "text/plain": [
       "''"
      ]
     },
     "execution_count": 3,
     "metadata": {},
     "output_type": "execute_result"
    }
   ],
   "source": [
    "msg = file.read()\n",
    "msg"
   ]
  },
  {
   "cell_type": "code",
   "execution_count": 4,
   "id": "08e9f59e-d60d-4560-b212-372188acadf7",
   "metadata": {},
   "outputs": [],
   "source": [
    "file.close()"
   ]
  },
  {
   "cell_type": "code",
   "execution_count": 5,
   "id": "50ebaed5-e004-488c-8c98-b6e990da8d3a",
   "metadata": {},
   "outputs": [
    {
     "ename": "ValueError",
     "evalue": "I/O operation on closed file.",
     "output_type": "error",
     "traceback": [
      "\u001b[0;31m---------------------------------------------------------------------------\u001b[0m",
      "\u001b[0;31mValueError\u001b[0m                                Traceback (most recent call last)",
      "Cell \u001b[0;32mIn[5], line 1\u001b[0m\n\u001b[0;32m----> 1\u001b[0m \u001b[43mfile\u001b[49m\u001b[38;5;241;43m.\u001b[39;49m\u001b[43mread\u001b[49m\u001b[43m(\u001b[49m\u001b[43m)\u001b[49m\n",
      "\u001b[0;31mValueError\u001b[0m: I/O operation on closed file."
     ]
    }
   ],
   "source": [
    "file.read()"
   ]
  },
  {
   "cell_type": "code",
   "execution_count": 7,
   "id": "ef76f2c1-cb0d-48df-85df-257e2465c2f1",
   "metadata": {},
   "outputs": [
    {
     "ename": "UnsupportedOperation",
     "evalue": "not readable",
     "output_type": "error",
     "traceback": [
      "\u001b[0;31m---------------------------------------------------------------------------\u001b[0m",
      "\u001b[0;31mUnsupportedOperation\u001b[0m                      Traceback (most recent call last)",
      "Cell \u001b[0;32mIn[7], line 3\u001b[0m\n\u001b[1;32m      1\u001b[0m \u001b[38;5;66;03m# 通过上下文管理器with创建一个文件操作对象，并赋值给变量f\u001b[39;00m\n\u001b[1;32m      2\u001b[0m \u001b[38;5;28;01mwith\u001b[39;00m \u001b[38;5;28mopen\u001b[39m(\u001b[38;5;124m'\u001b[39m\u001b[38;5;124mexample.txt\u001b[39m\u001b[38;5;124m'\u001b[39m, \u001b[38;5;124m'\u001b[39m\u001b[38;5;124mw\u001b[39m\u001b[38;5;124m'\u001b[39m) \u001b[38;5;28;01mas\u001b[39;00m f:     \n\u001b[0;32m----> 3\u001b[0m     \u001b[38;5;28mprint\u001b[39m(\u001b[43mf\u001b[49m\u001b[38;5;241;43m.\u001b[39;49m\u001b[43mread\u001b[49m\u001b[43m(\u001b[49m\u001b[43m)\u001b[49m)\n",
      "\u001b[0;31mUnsupportedOperation\u001b[0m: not readable"
     ]
    }
   ],
   "source": [
    "# 通过上下文管理器with创建一个文件操作对象，并赋值给变量f\n",
    "with open('example.txt', 'w') as f:     \n",
    "    print(f.read())"
   ]
  },
  {
   "cell_type": "code",
   "execution_count": 8,
   "id": "a068a064-27a0-404b-9ce5-5d8092bcf5cc",
   "metadata": {},
   "outputs": [],
   "source": [
    "# 通过上下文管理器with创建一个文件操作对象，并赋值给变量f\n",
    "with open('example.txt', 'w') as f:     \n",
    "    f.write(\"Pineapple\")"
   ]
  },
  {
   "cell_type": "code",
   "execution_count": 11,
   "id": "b22fece7-3cc8-4827-973d-1b428826bf53",
   "metadata": {},
   "outputs": [
    {
     "name": "stdout",
     "output_type": "stream",
     "text": [
      "1\n",
      "2\n",
      "3\n",
      "4\n",
      "5\n"
     ]
    }
   ],
   "source": [
    "# 假设有一个列表\n",
    "my_list = [1, 2, 3, 4, 5]\n",
    "\n",
    "# 使用iter()获取迭代器\n",
    "iterator = iter(my_list)\n",
    "\n",
    "# 使用for循环迭代\n",
    "for element in iterator:\n",
    "    print(element)\n",
    "\n",
    "# 或者使用next()函数逐个访问元素\n",
    "while True:\n",
    "    try:\n",
    "        element = next(iterator)\n",
    "        print(element)\n",
    "    except StopIteration:\n",
    "        # StopIteration异常表示迭代结束\n",
    "        break"
   ]
  },
  {
   "cell_type": "markdown",
   "id": "6d5fa54a-5363-4121-b22b-9c532ddbc5f5",
   "metadata": {},
   "source": [
    "#### 使用dict.keys()获取键的迭代器："
   ]
  },
  {
   "cell_type": "code",
   "execution_count": null,
   "id": "01285de9-c05e-404b-b76f-8834519d48d7",
   "metadata": {},
   "outputs": [],
   "source": [
    "my_dict = {'a': 1, 'b': 2, 'c': 3}\n",
    "keys_iterator = iter(my_dict.keys())\n",
    "\n",
    "# 使用next()获取下一个键\n",
    "next_key = next(keys_iterator)\n",
    "print(next_key)  # 输出: 'a'"
   ]
  },
  {
   "cell_type": "markdown",
   "id": "817c8a2c-7ad8-4097-9c5b-f06b6e469bfb",
   "metadata": {},
   "source": [
    "#### 使用dict.values()获取值的迭代器："
   ]
  },
  {
   "cell_type": "code",
   "execution_count": 13,
   "id": "9481eb60-1da1-47cd-b54e-a6b803fe8a33",
   "metadata": {},
   "outputs": [
    {
     "name": "stdout",
     "output_type": "stream",
     "text": [
      "1\n"
     ]
    }
   ],
   "source": [
    "values_iterator = iter(my_dict.values())\n",
    "\n",
    "# 使用next()获取下一个值\n",
    "next_value = next(values_iterator)\n",
    "print(next_value)  # 输出: 1"
   ]
  },
  {
   "cell_type": "markdown",
   "id": "a958e84a-44b3-4470-bc5b-36e9632de4a4",
   "metadata": {},
   "source": [
    "#### 使用dict.items()获取键值对的迭代器："
   ]
  },
  {
   "cell_type": "code",
   "execution_count": 14,
   "id": "b317f2e3-58b2-41fb-bbc2-9965fe38feaa",
   "metadata": {},
   "outputs": [
    {
     "name": "stdout",
     "output_type": "stream",
     "text": [
      "('a', 1)\n"
     ]
    }
   ],
   "source": [
    "items_iterator = iter(my_dict.items())\n",
    "\n",
    "# 使用next()获取下一个键值对\n",
    "next_item = next(items_iterator)\n",
    "print(next_item)  # 输出: ('a', 1)"
   ]
  },
  {
   "cell_type": "markdown",
   "id": "13d08b7d-564d-4c68-802f-f2a714665a3c",
   "metadata": {},
   "source": [
    "#### 如果你想要迭代字典的所有键、值或键值对，可以使用for循环直接迭代这些方法返回的对象："
   ]
  },
  {
   "cell_type": "code",
   "execution_count": 15,
   "id": "399a73a0-6e0e-4b92-a716-689abdb6d2f1",
   "metadata": {},
   "outputs": [
    {
     "name": "stdout",
     "output_type": "stream",
     "text": [
      "a\n",
      "b\n",
      "c\n",
      "1\n",
      "2\n",
      "3\n",
      "('a', 1)\n",
      "('b', 2)\n",
      "('c', 3)\n"
     ]
    }
   ],
   "source": [
    "for key in my_dict.keys():\n",
    "    print(key)\n",
    "\n",
    "for value in my_dict.values():\n",
    "    print(value)\n",
    "\n",
    "for item in my_dict.items():\n",
    "    print(item)  # 输出键值对"
   ]
  },
  {
   "cell_type": "markdown",
   "id": "9a4c6132-11c2-47ae-84a1-458ebaca03fc",
   "metadata": {},
   "source": [
    "#### 如果你想要同时迭代键和值，可以使用dict.items()并将其传递给zip()函数，这样你就可以同时访问键和值："
   ]
  },
  {
   "cell_type": "code",
   "execution_count": 16,
   "id": "cabbb955-6e3e-43d1-9b9b-227662027206",
   "metadata": {},
   "outputs": [
    {
     "name": "stdout",
     "output_type": "stream",
     "text": [
      "a 1\n",
      "b 2\n",
      "c 3\n"
     ]
    }
   ],
   "source": [
    "for key, value in my_dict.items():\n",
    "    print(key, value)"
   ]
  },
  {
   "cell_type": "code",
   "execution_count": 4,
   "id": "a3b128c8-6511-46b8-b3bc-596f65e01bff",
   "metadata": {},
   "outputs": [
    {
     "data": {
      "text/plain": [
       "'2024-10-25 18:07:23.049264 | INFO / WARNING: information message'"
      ]
     },
     "execution_count": 4,
     "metadata": {},
     "output_type": "execute_result"
    }
   ],
   "source": [
    "from datetime import datetime\n",
    "\n",
    "f\"{str(datetime.now())} | INFO / WARNING: information message\""
   ]
  },
  {
   "cell_type": "code",
   "execution_count": null,
   "id": "6f798a5a-d84f-4481-9adf-77afd691ae32",
   "metadata": {},
   "outputs": [],
   "source": [
    "log = Logger(\"my_app.log\") # 初始化一个日志记录器对象\n",
    "\n",
    "...\n",
    "....\n",
    "...\n",
    "log.info(“用户登录成功”)\n",
    "... \n",
    "... \n",
    "if ...:\n",
    "    ...\n",
    "else:\n",
    "    log.warning(“用户访问异常”)"
   ]
  },
  {
   "cell_type": "code",
   "execution_count": 8,
   "id": "21bbe992-a3f0-4842-84e2-ee55d0ebd4d7",
   "metadata": {},
   "outputs": [],
   "source": [
    "from datetime import datetime\n",
    "\n",
    "class Logger:\n",
    "    \"\"\"\n",
    "    日志记录类\n",
    "    \"\"\"\n",
    "    def __init__(self, filename: str):\n",
    "        self.filename = filename\n",
    "\n",
    "    def info(self, msg: str):\n",
    "        with open(self.filename, \"a+\") as f:\n",
    "            f.write(f\"{str(datetime.now())} | INFO: {msg}\\n\")\n",
    "\n",
    "    def warning(self, msg: str):\n",
    "        with open(self.filename, \"a+\") as f:\n",
    "            f.write(f\"{str(datetime.now())} | WARNING: {msg}\\n\")\n",
    "\n",
    "log = Logger(\"taobao.log\")\n",
    "log.info(\"用户登录成功\")"
   ]
  },
  {
   "cell_type": "code",
   "execution_count": 9,
   "id": "c68d28c2-dd19-464f-94be-90fd5b34dad0",
   "metadata": {},
   "outputs": [],
   "source": [
    "log.warning(\"用户登录成功\")"
   ]
  }
 ],
 "metadata": {
  "kernelspec": {
   "display_name": "Python 3 (ipykernel)",
   "language": "python",
   "name": "python3"
  },
  "language_info": {
   "codemirror_mode": {
    "name": "ipython",
    "version": 3
   },
   "file_extension": ".py",
   "mimetype": "text/x-python",
   "name": "python",
   "nbconvert_exporter": "python",
   "pygments_lexer": "ipython3",
   "version": "3.11.7"
  }
 },
 "nbformat": 4,
 "nbformat_minor": 5
}
